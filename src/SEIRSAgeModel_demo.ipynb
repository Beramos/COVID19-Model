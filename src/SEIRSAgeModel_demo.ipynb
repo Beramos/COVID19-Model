{
 "cells": [
  {
   "cell_type": "markdown",
   "metadata": {
    "toc": "true"
   },
   "source": [
    "# Table of Contents\n",
    " <p><div class=\"lev1 toc-item\"><a href=\"#Covid-19:-From-model-prediction-to-model-predictive-control\" data-toc-modified-id=\"Covid-19:-From-model-prediction-to-model-predictive-control-1\"><span class=\"toc-item-num\">1&nbsp;&nbsp;</span>Covid-19: From model prediction to model predictive control</a></div><div class=\"lev2 toc-item\"><a href=\"#A-demo-of-the-deterministic-modeling-framework\" data-toc-modified-id=\"A-demo-of-the-deterministic-modeling-framework-1.1\"><span class=\"toc-item-num\">1.1&nbsp;&nbsp;</span>A demo of the deterministic modeling framework</a></div><div class=\"lev2 toc-item\"><a href=\"#Introduction\" data-toc-modified-id=\"Introduction-1.2\"><span class=\"toc-item-num\">1.2&nbsp;&nbsp;</span>Introduction</a></div><div class=\"lev3 toc-item\"><a href=\"#Model-dynamics\" data-toc-modified-id=\"Model-dynamics-1.2.1\"><span class=\"toc-item-num\">1.2.1&nbsp;&nbsp;</span>Model dynamics</a></div><div class=\"lev3 toc-item\"><a href=\"#Deterministic-vs.-Stochastic-framework\" data-toc-modified-id=\"Deterministic-vs.-Stochastic-framework-1.2.2\"><span class=\"toc-item-num\">1.2.2&nbsp;&nbsp;</span>Deterministic vs. Stochastic framework</a></div><div class=\"lev3 toc-item\"><a href=\"#Model-parameters\" data-toc-modified-id=\"Model-parameters-1.2.3\"><span class=\"toc-item-num\">1.2.3&nbsp;&nbsp;</span>Model parameters</a></div><div class=\"lev3 toc-item\"><a href=\"#Social-interaction-data\" data-toc-modified-id=\"Social-interaction-data-1.2.4\"><span class=\"toc-item-num\">1.2.4&nbsp;&nbsp;</span>Social interaction data</a></div><div class=\"lev2 toc-item\"><a href=\"#Performing-simulations\" data-toc-modified-id=\"Performing-simulations-1.3\"><span class=\"toc-item-num\">1.3&nbsp;&nbsp;</span>Performing simulations</a></div><div class=\"lev3 toc-item\"><a href=\"#Without-age-structuring\" data-toc-modified-id=\"Without-age-structuring-1.3.1\"><span class=\"toc-item-num\">1.3.1&nbsp;&nbsp;</span>Without age-structuring</a></div><div class=\"lev3 toc-item\"><a href=\"#Meta-population-simulations\" data-toc-modified-id=\"Meta-population-simulations-1.3.2\"><span class=\"toc-item-num\">1.3.2&nbsp;&nbsp;</span>Meta-population simulations</a></div><div class=\"lev2 toc-item\"><a href=\"#Calibrating-$\\beta$--in-a-business-as-usual-scenario-($N_c-=-11.2$)\" data-toc-modified-id=\"Calibrating-$\\beta$--in-a-business-as-usual-scenario-($N_c-=-11.2$)-1.4\"><span class=\"toc-item-num\">1.4&nbsp;&nbsp;</span>Calibrating <span class=\"MathJax_Preview\" style=\"color: inherit;\"></span><span class=\"MathJax\" id=\"MathJax-Element-46-Frame\" tabindex=\"0\" style=\"position: relative;\" data-mathml=\"<math xmlns=&quot;http://www.w3.org/1998/Math/MathML&quot;><mi>&amp;#x03B2;</mi></math>\" role=\"presentation\"><nobr aria-hidden=\"true\"><span class=\"math\" id=\"MathJax-Span-2805\" style=\"width: 0.646em; display: inline-block;\"><span style=\"display: inline-block; position: relative; width: 0.53em; height: 0px; font-size: 120%;\"><span style=\"position: absolute; clip: rect(1.605em, 1000.53em, 2.683em, -1000em); top: -2.386em; left: 0em;\"><span class=\"mrow\" id=\"MathJax-Span-2806\"><span class=\"mi\" id=\"MathJax-Span-2807\" style=\"font-family: STIXMathJax_Normal; font-style: italic;\">𝛽<span style=\"display: inline-block; overflow: hidden; height: 1px; width: 0.025em;\"></span></span></span><span style=\"display: inline-block; width: 0px; height: 2.386em;\"></span></span></span><span style=\"display: inline-block; overflow: hidden; vertical-align: -0.265em; border-left: 0px solid; width: 0px; height: 1.112em;\"></span></span></nobr><span class=\"MJX_Assistive_MathML\" role=\"presentation\"><math xmlns=\"http://www.w3.org/1998/Math/MathML\"><mi>β</mi></math></span></span><script type=\"math/tex\" id=\"MathJax-Element-46\">\\beta</script>  in a <em>business-as-usual</em> scenario (<span class=\"MathJax_Preview\" style=\"color: inherit;\"></span><span class=\"MathJax\" id=\"MathJax-Element-47-Frame\" tabindex=\"0\" style=\"position: relative;\" data-mathml=\"<math xmlns=&quot;http://www.w3.org/1998/Math/MathML&quot;><msub><mi>N</mi><mi>c</mi></msub><mo>=</mo><mn>11.2</mn></math>\" role=\"presentation\"><nobr aria-hidden=\"true\"><span class=\"math\" id=\"MathJax-Span-2808\" style=\"width: 5.153em; display: inline-block;\"><span style=\"display: inline-block; position: relative; width: 4.28em; height: 0px; font-size: 120%;\"><span style=\"position: absolute; clip: rect(1.748em, 1004.25em, 2.809em, -1000em); top: -2.538em; left: 0em;\"><span class=\"mrow\" id=\"MathJax-Span-2809\"><span class=\"msubsup\" id=\"MathJax-Span-2810\"><span style=\"display: inline-block; position: relative; width: 1.219em; height: 0px;\"><span style=\"position: absolute; clip: rect(3.249em, 1000.9em, 4.129em, -1000em); top: -4.015em; left: 0em;\"><span class=\"mi\" id=\"MathJax-Span-2811\" style=\"font-family: STIXMathJax_Normal; font-style: italic;\">𝑁<span style=\"display: inline-block; overflow: hidden; height: 1px; width: 0.05em;\"></span></span><span style=\"display: inline-block; width: 0px; height: 4.015em;\"></span></span><span style=\"position: absolute; top: -3.865em; left: 0.851em;\"><span class=\"mi\" id=\"MathJax-Span-2812\" style=\"font-size: 70.7%; font-family: STIXMathJax_Normal; font-style: italic;\">𝑐</span><span style=\"display: inline-block; width: 0px; height: 4.015em;\"></span></span></span></span><span class=\"mo\" id=\"MathJax-Span-2813\" style=\"font-family: STIXMathJax_Main; padding-left: 0.313em;\">=</span><span class=\"mn\" id=\"MathJax-Span-2814\" style=\"font-family: STIXMathJax_Main; padding-left: 0.313em;\">11.2</span></span><span style=\"display: inline-block; width: 0px; height: 2.538em;\"></span></span></span><span style=\"display: inline-block; overflow: hidden; vertical-align: -0.235em; border-left: 0px solid; width: 0px; height: 1.091em;\"></span></span></nobr><span class=\"MJX_Assistive_MathML\" role=\"presentation\"><math xmlns=\"http://www.w3.org/1998/Math/MathML\"><msub><mi>N</mi><mi>c</mi></msub><mo>=</mo><mn>11.2</mn></math></span></span><script type=\"math/tex\" id=\"MathJax-Element-47\">N_c = 11.2</script>)</a></div><div class=\"lev3 toc-item\"><a href=\"#Performing-a-least-squares-fit\" data-toc-modified-id=\"Performing-a-least-squares-fit-1.4.1\"><span class=\"toc-item-num\">1.4.1&nbsp;&nbsp;</span>Performing a least-squares fit</a></div><div class=\"lev3 toc-item\"><a href=\"#Visualising-the-fit\" data-toc-modified-id=\"Visualising-the-fit-1.4.2\"><span class=\"toc-item-num\">1.4.2&nbsp;&nbsp;</span>Visualising the fit</a></div><div class=\"lev2 toc-item\"><a href=\"#Model-Predictive-control-(MPC)\" data-toc-modified-id=\"Model-Predictive-control-(MPC)-1.5\"><span class=\"toc-item-num\">1.5&nbsp;&nbsp;</span>Model Predictive control (MPC)</a></div><div class=\"lev3 toc-item\"><a href=\"#Optimising-government-policy\" data-toc-modified-id=\"Optimising-government-policy-1.5.1\"><span class=\"toc-item-num\">1.5.1&nbsp;&nbsp;</span>Optimising government policy</a></div><div class=\"lev3 toc-item\"><a href=\"#Visualising-the-effect-of-government-policy\" data-toc-modified-id=\"Visualising-the-effect-of-government-policy-1.5.2\"><span class=\"toc-item-num\">1.5.2&nbsp;&nbsp;</span>Visualising the effect of government policy</a></div><div class=\"lev2 toc-item\"><a href=\"#Specific-methods\" data-toc-modified-id=\"Specific-methods-1.6\"><span class=\"toc-item-num\">1.6&nbsp;&nbsp;</span>Specific methods</a></div><div class=\"lev3 toc-item\"><a href=\"#realTimeScenario\" data-toc-modified-id=\"realTimeScenario-1.6.1\"><span class=\"toc-item-num\">1.6.1&nbsp;&nbsp;</span><em>realTimeScenario</em></a></div><div class=\"lev3 toc-item\"><a href=\"#realTimeMPC\" data-toc-modified-id=\"realTimeMPC-1.6.2\"><span class=\"toc-item-num\">1.6.2&nbsp;&nbsp;</span><em>realTimeMPC</em></a></div>"
   ]
  },
  {
   "cell_type": "markdown",
   "metadata": {},
   "source": [
    "# Covid-19: From model prediction to model predictive control\n",
    "\n",
    "## A demo of the deterministic modeling framework\n",
    "\n",
    "*Original code by Ryan S. McGee. Modified by T.W. Alleman in consultation with the BIOMATH research unit headed by prof. Ingmar Nopens.*\n",
    "\n",
    "Copyright (c) 2020 by T.W. Alleman, BIOMATH, Ghent University. All Rights Reserved.\n",
    "\n",
    "Our code implements a SEIRS infectious disease dynamics models with extensions to model the effect quarantining detected cases. Using the concept of 'classes' in Python 3, the code was integrated with our previous work and allows to quickly perform Monte Carlo simulations, calibrate model parameters and calculate an *optimal* government policies using a model predictive controller (MPC). A white paper and souce code of our previous work can be found on the Biomath website. \n",
    "\n",
    "https://biomath.ugent.be/covid-19-outbreak-modelling-and-control"
   ]
  },
  {
   "cell_type": "code",
   "execution_count": 1,
   "metadata": {
    "ExecuteTime": {
     "end_time": "2020-05-01T09:38:06.888712Z",
     "start_time": "2020-05-01T09:38:06.875510Z"
    }
   },
   "outputs": [],
   "source": [
    "import numpy as np\n",
    "import matplotlib.pyplot as plt\n",
    "from IPython.display import Image\n",
    "from ipywidgets import interact,fixed,FloatSlider,IntSlider,ToggleButtons\n",
    "import pandas as pd\n",
    "import datetime\n",
    "import scipy\n",
    "from scipy.integrate import odeint\n",
    "import matplotlib.dates as mdates\n",
    "import matplotlib\n",
    "import scipy.stats as st\n",
    "import networkx # to install networkx in your environment: conda install networkx\n",
    "import models"
   ]
  },
  {
   "cell_type": "markdown",
   "metadata": {},
   "source": [
    "## Introduction"
   ]
  },
  {
   "cell_type": "markdown",
   "metadata": {},
   "source": [
    "### Model dynamics\n"
   ]
  },
  {
   "cell_type": "markdown",
   "metadata": {
    "ExecuteTime": {
     "end_time": "2020-05-01T07:27:03.986102Z",
     "start_time": "2020-05-01T07:27:03.969025Z"
    }
   },
   "source": [
    "In this work, we extended the SEIR model to model the disease spread with a higher resolution. To this end, the *infected pool* is split into four types of infectiousness: 1) supermild (SM): people who show little to no symptoms at all, 2) mild (M): people with noticable, mild covid-19 symptoms, 3) heavy (H): people hospitalised but not in need of intensive care and 4) critical (C): people hospitalised and in need of intensive care. It takes several days before a heavy or critical infection becomes so severe that these patients need to be hospitalised. To this end, the pool of heavily and critically infected patients is split in two: not yet hospitalised (H, C) and hospitalised (HH,CH). The *removed pool* from the classical SEIR model is explicitly split into an immune (I) and dead (F) pool. People from the susceptible, exposed, supermild infected, mild infected and immune pool can be quarantined after having tested positive for covid-19. In the flowchart below, quarantine pools are denoted by the *Q*-suffix. Note that for individuals in the susceptible and immune pools, this corresponds to receiving a false positive test.\n",
    "\n",
    "<img src=\"../figs/flowchart2.jpg\" alt=\"drawing\" width=\"400\"/>"
   ]
  },
  {
   "cell_type": "markdown",
   "metadata": {},
   "source": [
    "### Deterministic vs. Stochastic framework"
   ]
  },
  {
   "cell_type": "markdown",
   "metadata": {},
   "source": [
    "The extended SEIR model is implemented using two frameworks: a deterministic and a stochastic (network based) framework. **This Jupyter Notebooks is a demo of the deterministic model.** A deterministic implementation of the extended SEIRS model captures important features of infectious disease dynamics, but it assumes uniform mixing of the population (i.e. every individual in the population is equally likely to interact with every other individual). The deterministic approach results in a set of N ordinary differential equations, one for every of the N ’population pools’ considered. The main advantage of the deterministic model is that a low amount of computational resources are required while still maintaining an acceptable accuracy. The deterministic framework allows to rapidly explore scenarios and perform optimisations which require thousands of function evaluations. \n",
    "\n",
    "However, it is often important to consider the structure of contact networks when studying disease transmission and the effect of interventions such as social distancing and contact tracing. The main drawback of the deterministic approach is the inability to simulate contact tracing, which is one of the most promising measures against the spread of sars-cov-2. For this reason, the SEIRS dynamics depicted in on the above flowchart can be simulated on a stochastic dynamical network. This advantages include a more detailed analysis of the relationship between social network structure and effective transmission rates, including the effect of network-based interventions such as social distancing, quarantining, and contact tracing. The first drawback is the increased amount of computational resources required, leading to the inability to perform optimisations on a personal computer. Instead, high performance computing infrastructure is needed. The second drawback is the need for more data and/or assumptions on social interactions and how government measures affect these social interactions."
   ]
  },
  {
   "cell_type": "markdown",
   "metadata": {},
   "source": [
    "#### Deterministic equations"
   ]
  },
  {
   "cell_type": "markdown",
   "metadata": {},
   "source": [
    "The dynamics of the deterministic system are mathematically formulated as the rate of change of each population pool shown in the above flowchart. This results in the following system of ordinary differential equations (the parameters are explained in the next section):\n",
    "\n",
    "\\begin{eqnarray}\n",
    "\\dot{S} &=& - \\beta \\cdot N_c \\Big( \\frac{E+SM}{N} \\Big) \\cdot S  - \\theta_{\\text{S}} \\psi_{\\text{FP}} \\cdot S + SQ/d_{\\text{q,FP}} + \\zeta \\cdot R,\\\\\n",
    "\\dot{E} &=&  \\beta \\cdot N_c  \\Big( \\frac{E+SM}{N} \\Big) \\cdot S - B / \\sigma - \\theta_{\\text{E}} \\psi_{\\text{PP}} \\cdot E,\\\\\n",
    "\\dot{SM} &=& \\text{sm}/\\sigma  \\cdot E - SM/d_{\\text{sm}} - \\theta_{\\text{SM}} \\psi_{\\text{PP}} \\cdot SM,\\\\ \n",
    "\\dot{M} &=&  \\text{m} / \\sigma \\cdot E - M/d_{\\text{m}} - \\theta_{\\text{M}} \\psi_{\\text{PP}} \\cdot M,\\\\\n",
    "\\dot{H} &=&  \\text{h} / \\sigma \\cdot E + h / \\sigma \\cdot EQ - H/d_{\\text{hospital}},\\\\\n",
    "\\dot{C} &=&  \\text{c} / \\sigma \\cdot E + c / \\sigma \\cdot EQ - C/d_{\\text{hospital}},\\\\\n",
    "\\dot{HH} &=& H/d_{\\text{hospital}} - HH/d_{h}\\\\\n",
    "\\dot{CH} &=& C/d_{\\text{hospital}} - m_c \\cdot CH/d_{\\text{cf}} - (1-m_c) \\cdot CH/d_{\\text{cr}}\\\\\n",
    "\\dot{F} &=& m_c \\cdot CH/d_{\\text{cf}}\\\\\n",
    "\\dot{R} &=& SM/d_{\\text{sm}} + M/d_{\\text{m}} + HH/d_{\\text{h}} + (1-m_h) \\cdot CH/d_{\\text{cr}} + SMQ/d_{\\text{sm}} \\\\ && + MQ/d_{\\text{m}} + RQ/d_{\\text{q,FP}} - \\zeta \\cdot R \\\\\n",
    "\\dot{SQ} &=& \\theta_{\\text{S}} \\psi_{\\text{FP}} \\cdot S - SQ/d_{\\text{q,FP}} \\\\\n",
    "\\dot{EQ} &=& \\theta_{\\text{E}} \\psi_{\\text{PP}} \\cdot E - EQ/\\sigma\\\\\n",
    "\\dot{SMQ} &=& \\theta_{\\text{SM}} \\psi_{\\text{PP}} \\cdot SM + sm/\\sigma \\cdot EQ - SMQ/d_{\\text{sm}} \\\\\n",
    "\\dot{MQ} &=& \\theta_{\\text{M}} \\psi_{\\text{PP}} \\cdot M + m/\\sigma \\cdot EQ - MQ/d_{\\text{m}}\\\\\n",
    "\\dot{RQ} &=& \\theta_{\\text{R}} \\psi_{\\text{FP}} \\cdot R - RQ/d_{\\text{q,FP}}\n",
    "\\end{eqnarray}"
   ]
  },
  {
   "cell_type": "markdown",
   "metadata": {
    "heading_collapsed": true
   },
   "source": [
    "#### Stochastic equations"
   ]
  },
  {
   "cell_type": "markdown",
   "metadata": {
    "hidden": true
   },
   "source": [
    "Consider a network graph G like the one depicted below, representing individuals (nodes) and their interactions (edges). Each individual (node) has a state (S, E, SM, M, H, C, HH, CH, R, F, SQ, SMQ, MQ or RQ). The set of nodes adjacent (connected by an edge) to an individual defines their set of \"close contacts\" (highlighted in black). At a given time, each individual makes contact with a random individual from their set of close contacts with probability (1-p) or with a random individual from anywhere in the network (highlighted in blue) with probability p. The latter global contacts represent individuals interacting with the population at large. These are individuals outside of ones inner social circle, such as on public transit, at an event or chatting to an old acquaintance etc. When a susceptible individual interacts with an exposed or infectious individual they become exposed themselves. The parameter p defines the locality of the network: for p=0 an individual only interacts with their close contacts, while p=1 represents a uniformly mixed population. **For a sufficiently large network G, and $p = 1$, the stochastic and deterministic framework will yield the same result**. Social distancing interventions ifluences both the locality and connectivity of the network. It is expected that social distancing lowers the average number of interactions an individual has each day (lower connectivity of the network). But as a result, the fraction of interactions in the inner circle increases, lowering p.\n",
    "\n",
    "<img src=\"../figs/network_contacts.png\"\n",
    "     alt=\"network\"\n",
    "     height=\"180\" width=\"200\"     \n",
    "     style=\"float: left; margin-right: 10000px;\" /> \n",
    "\n",
    "Each node $i$ has a state $X_i$ that updates according to a probability transition rate. The dynamics of the stochastic system are mathematically formulated as probabilities of transitioning between the pools shown in the model flowchart. In addition, back tracking of confirmed cases can be included in the model,\n",
    "\n",
    "\\begin{eqnarray}\n",
    "\\text{Pr}(X_i = S \\rightarrow E) &=&  \\Big[ \\underbrace{p \\cdot \\frac{\\beta (E + SM)}{N}}_{\\text{infection through random encounter}} \\\\ \n",
    "&& + \\underbrace{(1-p) \\cdot \\frac{\\beta \\sum_{j \\in C_G(i)} (\\delta_{X_j = E}+\\delta_{X_j = SM})}{C_G (i)}}_{\\text{infection through inner circle}} \\Big] \\delta_{X_i=S},\\\\\n",
    "\\text{Pr}(X_i = E \\rightarrow SM) &=&  (sm/\\sigma) \\cdot \\delta_{X_i = E},\\\\\n",
    "\\text{Pr}(X_i = E \\rightarrow M) &=&  (m/\\sigma) \\cdot \\delta_{X_i = E},\\\\\n",
    "\\text{Pr}(X_i = E \\rightarrow H) &=&  (h/\\sigma) \\cdot \\delta_{X_i = E},\\\\\n",
    "\\text{Pr}(X_i = E \\rightarrow C) &=&  (c/\\sigma) \\cdot \\delta_{X_i = E},\\\\\n",
    "\\text{Pr}(X_i = H \\rightarrow HH) &=&  (1/d_{\\text{hospital}}) \\delta_{X_i = H},\\\\\n",
    "\\text{Pr}(X_i = C \\rightarrow CH) &=&  (1/d_{\\text{hospital}}) \\delta_{X_i = C},\\\\\n",
    "\\text{Pr}(X_i = SM \\rightarrow R) &=& (1/d_{\\text{sm}}) \\cdot \\delta_{X_i = SM},\\\\\n",
    "\\text{Pr}(X_i = M \\rightarrow R) &=& (1/d_{\\text{m}}) \\cdot \\delta_{X_i = M},\\\\\n",
    "\\text{Pr}(X_i = HH \\rightarrow R) &=& (1/d_{\\text{h}}) \\cdot \\delta_{X_i = HH},\\\\\n",
    "\\text{Pr}(X_i = CH \\rightarrow R) &=& (1-m_c)/d_{\\text{cr}} \\cdot \\delta_{X_i = HH},\\\\\n",
    "\\text{Pr}(X_i = CH \\rightarrow F) &=& (m_c/d_{\\text{cf}}) \\cdot \\delta_{X_i = HH},\\\\\n",
    "\\text{Pr}(X_i = S \\rightarrow SQ) &=& \\Big[\\theta_S + \\phi_S \\big[ \\sum_{j \\in C_G(i)} (\\delta_{X_j = SQ}+\\delta_{X_j = EQ}+\\delta_{X_j = SMQ} \\\\\n",
    "&&+\\delta_{X_j = MQ}+\\delta_{X_j = RQ}+\\delta_{X_j = HH}+\\delta_{X_j = CH}) \\big] \\Big] \\cdot \\psi_{\\text{FP}} \\cdot \\delta_{X_i = S}, \\\\\n",
    "\\text{Pr}(X_i = E \\rightarrow EQ) &=& \\Big[\\theta_E + \\phi_E \\big[ \\sum_{j \\in C_G(i)} (\\delta_{X_j = SQ}+\\delta_{X_j = EQ}+\\delta_{X_j = SMQ} \\\\\n",
    "&&+\\delta_{X_j = MQ}+\\delta_{X_j = RQ}+\\delta_{X_j = HH}+\\delta_{X_j = CH}) \\big] \\Big] \\cdot \\psi_{\\text{PP}} \\cdot \\delta_{X_i = E}, \\\\\n",
    "\\text{Pr}(X_i = SM \\rightarrow SMQ) &=& \\Big[\\theta_{SM} + \\phi_{SM} \\big[ \\sum_{j \\in C_G(i)} (\\delta_{X_j = SQ}+\\delta_{X_j = EQ}+\\delta_{X_j = SMQ} \\\\\n",
    "&&+\\delta_{X_j = MQ}+\\delta_{X_j = RQ}+\\delta_{X_j = HH}+\\delta_{X_j = CH}) \\big] \\Big] \\cdot \\psi_{\\text{PP}} \\cdot \\delta_{X_i = SM}, \\\\\n",
    "\\text{Pr}(X_i = M \\rightarrow MQ) &=& \\Big[\\theta_{M} + \\phi_{M} \\big[ \\sum_{j \\in C_G(i)} (\\delta_{X_j = SQ}+\\delta_{X_j = EQ}+\\delta_{X_j = SMQ} \\\\\n",
    "&&+\\delta_{X_j = MQ}+\\delta_{X_j = RQ}+\\delta_{X_j = HH}+\\delta_{X_j = CH}) \\big] \\Big] \\cdot \\psi_{\\text{PP}} \\cdot \\delta_{X_i = M} \\\\\n",
    "\\text{Pr}(X_i = R \\rightarrow RQ) &=& \\Big[\\theta_{R} + \\phi_{R} \\big[ \\sum_{j \\in C_G(i)} (\\delta_{X_j = SQ}+\\delta_{X_j = EQ}+\\delta_{X_j = SMQ} \\\\\n",
    "&&+\\delta_{X_j = MQ}+\\delta_{X_j = RQ}+\\delta_{X_j = HH}+\\delta_{X_j = CH}) \\big] \\Big] \\cdot \\psi_{\\text{FP}} \\cdot \\delta_{X_i = R}\\\\\n",
    "\\text{Pr}(X_i = SQ \\rightarrow S) &=& (1/d_{q,FP}) \\cdot \\delta_{X_i = SQ},\\\\\n",
    "\\text{Pr}(X_i = EQ \\rightarrow SMQ) &=& sm \\cdot \\sigma \\cdot \\delta_{X_i = EQ},\\\\\n",
    "\\text{Pr}(X_i = EQ \\rightarrow MQ) &=& m \\cdot \\sigma \\cdot \\delta_{X_i = EQ},\\\\\n",
    "\\text{Pr}(X_i = EQ \\rightarrow H) &=& h \\cdot \\sigma \\cdot \\delta_{X_i = EQ},\\\\\n",
    "\\text{Pr}(X_i = EQ \\rightarrow C) &=& h \\cdot \\sigma \\cdot \\delta_{X_i = EQ},\\\\\n",
    "\\text{Pr}(X_i = SMQ \\rightarrow R) &=& h (1/d_{sm}) \\cdot \\delta_{X_i = SMQ},\\\\\n",
    "\\text{Pr}(X_i = MQ \\rightarrow R) &=& h (1/d_{m}) \\cdot \\delta_{X_i = MQ},\\\\\n",
    "\\text{Pr}(X_i = RQ \\rightarrow R) &=& h (1/d_{\\text{hospital}}) \\cdot \\delta_{X_i = RQ},\\\\\n",
    "\\text{Pr}(X_i = R \\rightarrow S) &=& \\zeta \\cdot \\delta_{X_i = R},\\\\\n",
    "\\end{eqnarray}\n",
    "\n",
    "where $\\delta_{X_i = A} = 1$ if the state of $X_i$ is A, or 0 if not, and where $C_G(i)$ denotes the set of close contacts of node i (adjacent nodes). For large populations and $p = 1$, this stochastic model approaches the same dynamics as the deterministic SEIRS model.\n",
    "\n"
   ]
  },
  {
   "cell_type": "markdown",
   "metadata": {},
   "source": [
    "### Model parameters"
   ]
  },
  {
   "cell_type": "markdown",
   "metadata": {},
   "source": [
    "In the above equations, S stands for susceptible, E for exposed, SM for supermild, M for mild, H for heavy, C for critical, HH for heavy and hospitalised, CH for critical and hospitalised, F for dead, R for immune. The quarantined states are SQ, which stands for susceptible and quarantined, EQ for exposed and quarantined, SMQ for supermild infected and quarantined, MQ for mildly infected and quarantined and RQ for recovered and quarantined. N stands for the total population. The clinical parameters are: sm, m, z, h: the chance of having an asymptotic, mild, heavy or critical infection. Based on reported cases in China and travel data, Li et al. (2020b) estimated that 86 % of coronavirus infections in the country were \"undocumented\" in the weeks before officials instituted stringent quarantines. A biotech company in Iceland that has tested more than 9,000 people found that around 50 percent of those who tested positive said they were asymptomatic. We assume that 50 % of all infected cases are supermild (asymptotic) and hence,\n",
    "\n",
    "$$sm = 0.50$$\n",
    "\n",
    "Based on previously reported estimates of the distribution between mild, severe and critical cases (Wu and McGoogan, 2020), it is then calculated that the chance of contrapting a mild, severe and critical infection is,\n",
    "\n",
    "$$m = (1 − 0.50) · 0.81 = 0.405,$$\n",
    "$$h = (1 − 0.50) · 0.14 = 0.070,$$\n",
    "$$c = (1 − 0.50) · 0.05 = 0.025.$$"
   ]
  },
  {
   "cell_type": "markdown",
   "metadata": {},
   "source": [
    "$d_{sm}$ , $d_m$ , $d_h$ : the number of symptomic days in case of a supermild, mild or heavy infection.\n",
    "\n",
    "$d_{hf}$ is the time from hospitalisation until death in case of a critical infection while $d_{hr}$ is the recovery time for critical cases. Zhou et al. (2020) performed a retrospective study on 191 Chinese hospital patients and determined that the time from illness onset to discharge or death was 22.0 days (18.0-25.0, IQR) and 18.5 days (15.0-22.0, IQR) for survivors and victims respectively. Using available preliminary data, the World Health Organisation estimated the median time from onset to clinical recovery for mild cases to be approximately 2 weeks and to be 3-6 weeks for patients with severe or critical disease (WHO, 2020). Based on this report, we assume a recovery time of three weeks for heavy infections.\n",
    "\n",
    "$d_{hospital}$ : the time before heavily or critically infected patients reach the hospital. On average this is 9.1 days (Li et al., 2020a).\n",
    "\n",
    "$m_h$ : the mortality in case of a heavy infection: **to be completed**\n",
    "\n",
    "$m_c$ : the mortality in case of a critical infection, which is roughly 50\\% (Wu and McGoogan, 2020). It is assumed that if the number of critical cases surpasses the total number of ICU beds, the mortality is changed to the average between 0.49 and 1, with the fraction of patients in critical condition receiving care as a weight. This is formulated mathematically in the following way:"
   ]
  },
  {
   "cell_type": "markdown",
   "metadata": {},
   "source": [
    "\\begin{equation}\n",
    "m_c = \\underbrace{\\Big( \\frac{ICU_{\\text{max}}}{H} \\Big) \\cdot 0.49}_{\\text{critical patient receives care}} + \\underbrace{\\Big( \\frac{H - ICU_{\\text{max}}}{H} \\Big) \\cdot 1.00}_{\\text{critical patient receives no care}}\\ .\n",
    "\\end{equation}"
   ]
  },
  {
   "cell_type": "markdown",
   "metadata": {},
   "source": [
    "$\\sigma$: the incubation period in days. The incubation period is assumed to be Erlang distributed as reported by Li et al. (2020a). The average incubation time is 5.2 days. \n",
    "\n",
    "$\\zeta$: can be used to model the effect of re-susceptibility and seasonality of a disease. Throughout this demo, we assume $\\zeta = 0$ because data on seasonality is not yet available at the moment. We thus assume permanent immunity after recovering from the infection."
   ]
  },
  {
   "cell_type": "markdown",
   "metadata": {},
   "source": [
    "The transmission rate $R_0$ of the disease in the deterministic model depends on the product of three contributions. The first contribution, $(E+SM)/N$, is the probability of encountering a contagious individual. The second contribution, $N_c$, is the average number of human-to-human interactions per day. As previously explained, **in the deterministic framework, this assumes all $N_c$ contacts within the population to be random**. The third contribution, $\\beta$, is the probability of contracting sars-cov-2 when encoutering a contagious individual.    \n",
    "\n",
    "In this work, we explictly split $\\beta$ and $N_c$ because this has the following advantages: 1) $\\beta$ is now a disease characteristic, independent of social interactions. 2) The goal of this work is to demonstrate the concept of social control to contain the outbreak using model predictive control. By splitting $\\beta$ and $N_c$, the controlled variable is the number of random contacts $N_c$ which is more comprehendible to the reader of this text. The number of human-human interactions per day is estimated using the Social Contact Rates (SOCRATES) Data Tool (Willem et al., 2020). The dataset on human-human interactions for Belgium is based on a 2008 study by Mossong, which kept track of 750 participants and their interactions (8878 interactions) in Belgium. The dataset includes both physical and non-physical interactions of any duration. \n",
    "\n",
    "The testing and quarantine parameters are: $\\theta_{S}$, $\\theta_{E}$, $\\theta_{SM}$, $\\theta_{M}$, $\\theta_{R}$ expressed as the number of susceptibles, exposed, supermild and mild individuals tested each day. It is difficult to model a concrete testing scenario in the deterministic framework because no back tracing can be coupled to the tests. The deterministic model only considers random testing of the population. It uses the total daily testing capacity to calculate the amount of individuals in the S, E, SM, M and R pool that receive a test. \n",
    "\n",
    "$\\psi_{PP}$: probability of correctly identifiying and quarantining an exposed or infected person. $\\psi_{FP}$: probability of falsly identifying and quarantining a susceptible or recovered individual. Both parameters can be calculated using the reliability of the test and Bayes theorem. **For now, we assume no false positives.**\n",
    "\n",
    "$d_{\\text{q,FP}}$: the duration of the quarantine in the case of a false positive, assumed to be 14 days.\n"
   ]
  },
  {
   "cell_type": "markdown",
   "metadata": {},
   "source": [
    "### Social interaction data"
   ]
  },
  {
   "cell_type": "markdown",
   "metadata": {},
   "source": [
    "#### Social Contact Rates (SOCRATES) Data Tool"
   ]
  },
  {
   "cell_type": "markdown",
   "metadata": {},
   "source": [
    "https://lwillem.shinyapps.io/socrates_rshiny/\n",
    "\n",
    "1. What is the average number of daily human-to-human contacts of the Belgian population? Include all ages, all genders and both physical and non-physical interactions of any duration. To include all ages, type: *0,60+* in the *Age Breaks* dialog box.\n",
    "2. What is the average number of physical human-to-human contacts of the Belgian population? Include all ages, all genders and all durations of physical contact.\n",
    "3. What is the average number of physical human-to-human contacts of at least 1 hour of the Belgian population?\n",
    "4. Based on the above results, how would you estimate $N_c$ in the deterministic model?\n",
    "5. Based on the above results, how would you estimate $p$ in the stochastic model? Recall that $p$ is the fraction of *random contacts* a person has on a daily basis, while $(1-p)$ is the fraction of *inner circle contacts* a person has on a daily basis.\n",
    "\n"
   ]
  },
  {
   "cell_type": "markdown",
   "metadata": {
    "heading_collapsed": true
   },
   "source": [
    "#### Google COVID-19 Community Mobility Reports\n"
   ]
  },
  {
   "cell_type": "markdown",
   "metadata": {
    "hidden": true
   },
   "source": [
    "https://www.google.com/covid19/mobility/\n"
   ]
  },
  {
   "cell_type": "markdown",
   "metadata": {
    "heading_collapsed": true
   },
   "source": [
    "#### London School of Hygiene"
   ]
  },
  {
   "cell_type": "markdown",
   "metadata": {
    "hidden": true
   },
   "source": [
    "https://www.thelancet.com/journals/lanpub/article/PIIS2468-2667(20)30073-6/fulltext"
   ]
  },
  {
   "cell_type": "markdown",
   "metadata": {},
   "source": [
    "## Performing simulations"
   ]
  },
  {
   "cell_type": "markdown",
   "metadata": {},
   "source": [
    "### Without age-structuring"
   ]
  },
  {
   "cell_type": "markdown",
   "metadata": {},
   "source": [
    "#### The 'SEIRSAgeModel' class"
   ]
  },
  {
   "cell_type": "markdown",
   "metadata": {},
   "source": [
    "The basic concept of object oriented programming in Python 3 is illustrated schematically below. An object, created by calling a class, should be seen as a 'box' containing 'tools'. First, the model parameters, the initial condition and the monte-carlo simulation settings are put inside. The toolbox 'SEIRSAgeModel' not only contains the necessary code to simulate the model, but also contains several convenient functions for data visualisation, calibration of model parameters and model predictive control. The advantage of using an object instead of nested functions is the fact that function arguments don't explicitly have to be passed to the helper functions every time these are called by the user. Rather, the parameters are stored in our 'SEIRSAgeModel' toolbox and can be used by the class functions at any time. This drastically enhances the readability of the code.\n",
    "\n",
    "<img src=\"../figs/SEIRSAgeModel.jpg\"\n",
    "     alt=\"class\"\n",
    "     height=\"600\" width=\"700\"     \n",
    "     style=\"float: left; margin-right: 500px;\" /> \n",
    "\n",
    "As of now (18/04/2020), the SEIRSAgeModel contains 9 functions which can be grouped in two parts: 1) functions to run and visualise simulations and 2) functions to perform parameter estimations and visualse the results. 3) functions to optimize future policies using model predictive control (MPC)."
   ]
  },
  {
   "cell_type": "markdown",
   "metadata": {},
   "source": [
    "#### Creating a SEIRSAgeModel object"
   ]
  },
  {
   "cell_type": "markdown",
   "metadata": {},
   "source": [
    "We start our demo with the initialisation of our 'toolbox', as shown in the cell below. This is done by calling the SEIRSAgeModel class and defining all clinical and testing parameters, the initial condition and if we want to enable monte-carlo simulations. By default, if the argument monteCarlo and n_samples are omited from the object initialisation, monte-carlo sampling of the incubation period is switched off by default. **It is detrimental that Nc and all initial conditions (denoted 'initX') are numpy arrays. The initial conditions must be 1D arrays with the same size as the number of age categories considered in the metapopulation model. Nc must be a square 2D array with the same size as the number of age categories considered in the metapopulation model. For now, we omit age-structuring as this is demonstrated later on.** We conveniently name our object 'model'."
   ]
  },
  {
   "cell_type": "code",
   "execution_count": 8,
   "metadata": {
    "ExecuteTime": {
     "end_time": "2020-05-01T09:36:33.234177Z",
     "start_time": "2020-05-01T09:36:33.003420Z"
    }
   },
   "outputs": [],
   "source": [
    "model = models.SEIRSAgeModel(        initN   = np.array([11.43e6]), #must be a numpy array; size of the Belgian population\n",
    "                                     beta    = 0.032, # probability of infection when encountering infected person\n",
    "                                     sigma   = 5.2, # incubation period (days)\n",
    "                                     Nc = np.array([11.2]), #must be a numpy array; average number of human-to-human interactions per day\n",
    "                                     a = 0.43, # probability of an asymptotic (supermild) infection\n",
    "                                     m = 1-0.43, # probability of a mild infection\n",
    "                                     h = 0.20, # probability of hospitalisation for a mild infection\n",
    "                                     c = 2/3, # probability of hospitalisation in cohort\n",
    "                                     mi = 1/6, # probability of hospitalisation in midcare\n",
    "                                     da = 14, # days of infection when asymptomatic (supermild)\n",
    "                                     dm = 14, # days of infection when mild\n",
    "                                     dc = 7,\n",
    "                                     dmi = 14,\n",
    "                                     dICU = 14,\n",
    "                                     dICUrec = 6,\n",
    "                                     dmirec = 6,\n",
    "                                     dhospital = 3, # days before reaching the hospital when heavy or critical\n",
    "                                     m0 = 0.49, # mortality in ICU\n",
    "                                     maxICU = 2000,\n",
    "                                     totalTests = 0,\n",
    "                                     psi_FP = 0, # probability of a false positive\n",
    "                                     psi_PP = 1, # probability of a correct test\n",
    "                                     dq = 14, # days in quarantaine\n",
    "                                     initE = np.array([1]), #must be a numpy array\n",
    "                                     initA = np.zeros(1), \n",
    "                                     initM = np.zeros(1),\n",
    "                                     initC = np.zeros(1),\n",
    "                                     initCmirec = np.zeros(1),\n",
    "                                     initCicurec = np.zeros(1),\n",
    "                                     initMi = np.zeros(1),\n",
    "                                     initICU = np.zeros(1),\n",
    "                                     initR = np.zeros(1),\n",
    "                                     initD = np.zeros(1),\n",
    "                                     initSQ = np.zeros(1),\n",
    "                                     initEQ = np.zeros(1),\n",
    "                                     initAQ = np.zeros(1),\n",
    "                                     initMQ = np.zeros(1),\n",
    "                                     initRQ = np.zeros(1),\n",
    "                                     monteCarlo = False,\n",
    "                                     n_samples = 1\n",
    "                            )"
   ]
  },
  {
   "cell_type": "code",
   "execution_count": 9,
   "metadata": {},
   "outputs": [
    {
     "name": "stdout",
     "output_type": "stream",
     "text": [
      "(1, 48)\n"
     ]
    }
   ],
   "source": [
    "[index,data] = model.obtainData()\n",
    "ICUvect = np.transpose(data[0])\n",
    "hospital = np.transpose(data[1])\n",
    "print(ICUvect.shape)"
   ]
  },
  {
   "cell_type": "markdown",
   "metadata": {},
   "source": [
    "#### Changing an object variable after intialisation\n",
    "\n",
    "After initialising our 'model' it is still possible to change variables using the following syntax."
   ]
  },
  {
   "cell_type": "code",
   "execution_count": 4,
   "metadata": {},
   "outputs": [],
   "source": [
    "model.beta = 0.032"
   ]
  },
  {
   "cell_type": "markdown",
   "metadata": {},
   "source": [
    "#### Running your first simulation\n",
    "\n",
    "A simulation is run by using the attribute function *sim*, which uses one argument, the simulation time T, as its input. "
   ]
  },
  {
   "cell_type": "code",
   "execution_count": 5,
   "metadata": {},
   "outputs": [],
   "source": [
    "y = model.sim(40)"
   ]
  },
  {
   "cell_type": "markdown",
   "metadata": {},
   "source": [
    "For advanced users: the numerical results of the simulation can be accessed directly be calling *object.X* or *object.sumX* where X is the name of the desired population pool. Both are numpy arrays. *Ojbect.X* is a 3D array of the following dimensions:\n",
    "- x-dimension: number of age categories,\n",
    "- y-dimesion: tN: total number of timesteps taken (one per day),\n",
    "- z-dimension: n_samples: total number of monte-carlo simulations performed.\n",
    "\n",
    "Object.sumX is a 2D array containing only the results summed over all age categorie and has the following dimensions,\n",
    "- x-dimesion: tN: total number of timesteps taken (one per day),\n",
    "- y-dimension: n_samples: total number of monte-carlo simulations performed.\n"
   ]
  },
  {
   "cell_type": "markdown",
   "metadata": {},
   "source": [
    "#### Visualising the results\n",
    "\n",
    "To quickly visualise simulation results, two attribute functions were created. The first function, *plotPopulationStatus*, visualises the number of susceptible, exposed, infected and recovered individuals in the population. The second function, *plotInfected*, by default visualises the number of heavily and critically infected individuals. Both functions require no user input to work but both have some optional arguments,\n",
    "\n",
    "> plotPopulationStatus(filename),\n",
    "> - filename: string with a filename + extension to save the figure. The figure is not saved per default.\n",
    "\n",
    "> plotInfected(asymptotic, mild, filename),\n",
    "> - asymptotic: set to *True* to include the supermild pool in the visualisation.\n",
    "> - mild: set to *True* to include the mild pool in the visualisation.\n",
    "> - filename: string with a filename + extension to save the figure. The figure is not saved per default.\n",
    "> - getfig: True to return ax, fig (default: False)"
   ]
  },
  {
   "cell_type": "code",
   "execution_count": 6,
   "metadata": {},
   "outputs": [
    {
     "data": {
      "image/png": "[encoded data removed]",
      "text/plain": [
       "<Figure size 432x288 with 1 Axes>"
      ]
     },
     "metadata": {
      "needs_background": "light"
     },
     "output_type": "display_data"
    },
    {
     "data": {
      "image/png": "[encoded data removed]",
      "text/plain": [
       "<Figure size 432x288 with 1 Axes>"
      ]
     },
     "metadata": {
      "needs_background": "light"
     },
     "output_type": "display_data"
    }
   ],
   "source": [
    "model.plotPopulationStatus()\n",
    "model.plotInfected()"
   ]
  },
  {
   "cell_type": "markdown",
   "metadata": {},
   "source": [
    "#### The use of checkpoints to change parameters on the fly\n",
    "\n",
    "A cool feature of the original SEIRSplus package by Ryan McGee was the use of so-called *checkpoints* dictionary to change simulation parameters on the fly. In our modification, this feature is preserved. Below you can find an example of a *checkpoints* dictionary. The simulation will be started with the previously initialised parameters. After 40 days, social interaction will be limited by changing $N_c$ to 0.50 contacts per day. After 80 days, social restrictions are lifted and beta once more assumes its *business-as-usual* value. *checkpoints* is the only optional argument of the *sim* functions and is set to *None* per default."
   ]
  },
  {
   "cell_type": "code",
   "execution_count": 7,
   "metadata": {},
   "outputs": [
    {
     "data": {
      "image/png": "[encoded data removed]",
      "text/plain": [
       "<Figure size 432x288 with 1 Axes>"
      ]
     },
     "metadata": {
      "needs_background": "light"
     },
     "output_type": "display_data"
    },
    {
     "data": {
      "image/png": "[encoded data removed]",
      "text/plain": [
       "<Figure size 432x288 with 1 Axes>"
      ]
     },
     "metadata": {
      "needs_background": "light"
     },
     "output_type": "display_data"
    }
   ],
   "source": [
    "# Create checkpoints dictionary\n",
    "chk = {'t':       [40,80], \n",
    "       'Nc':      [np.array([0.5]),np.array([0.5])]\n",
    "      }\n",
    "# Run simulation\n",
    "y = model.sim(200,checkpoints=chk)\n",
    "# Visualise\n",
    "model.plotPopulationStatus()\n",
    "model.plotInfected()"
   ]
  },
  {
   "cell_type": "markdown",
   "metadata": {},
   "source": [
    "### Meta-population simulations"
   ]
  },
  {
   "cell_type": "markdown",
   "metadata": {},
   "source": [
    "#### Creating an age-structured SEIRSAgeModel object\n",
    "A first important challenge when using a deterministic model is to link the discrete levels of the control handle Nc (number of contacts) to specific government policies. A model extension that could be used to facilitate this is age-structuring. In this approach, all population pools are split in age-bins and the interactions between the age-bins are governed by a so-called interaction matrix. This modeling approach was recently used by a team of the London School of Hygiene and details can be found here [1]. Our model is written in such a way that incorporating age-structuring is only a matter of change the initial conditions and Nc-matrix sizes. We can already run simulations using the Belgian interaction matrix shown below and we will run the controller using this model in the very near future.\n",
    "\n",
    "We now initialise a second, age-structured, 'toolbox', as shown in the cell below.  This is done in exactly the same way as before but instead of size-one numpy arrays we will now use a 16x16 interaction interaction matrix and 16x0 size initial conditions, as was demonstrated by the London School of Hygiene. Interaction matrices are publicly available here [2]. We conveniently name our object 'ageModel'.\n",
    "\n",
    "[1] https://www.thelancet.com/journals/lanpub/article/PIIS2468-2667(20)30073-6/fulltext \n",
    "\n",
    "[2] https://github.com/kieshaprem/covid19-agestructureSEIR-wuhan-social-distancing/tree/master/data\n",
    "\n",
    "<img src=\"../figs/BELinteractPlot.png\"\n",
    "     alt=\"interact\"\n",
    "     height=\"1000\" width=\"1000\"     \n",
    "     style=\"float: left; margin-right: 500px;\" /> "
   ]
  },
  {
   "cell_type": "code",
   "execution_count": 8,
   "metadata": {},
   "outputs": [],
   "source": [
    "# Load interaction matrices\n",
    "Nc_home = np.loadtxt(\"../data/Interaction_matrices/Belgium/BELhome.txt\", dtype='f', delimiter='\\t')\n",
    "Nc_work = np.loadtxt(\"../data/Interaction_matrices/Belgium/BELwork.txt\", dtype='f', delimiter='\\t')\n",
    "Nc_schools = np.loadtxt(\"../data/Interaction_matrices/Belgium/BELschools.txt\", dtype='f', delimiter='\\t')\n",
    "Nc_others = np.loadtxt(\"../data/Interaction_matrices/Belgium/BELothers.txt\", dtype='f', delimiter='\\t')\n",
    "Nc_all = np.loadtxt(\"../data/Interaction_matrices/Belgium/BELall.txt\", dtype='f', delimiter='\\t')\n",
    "initN = np.loadtxt(\"../data/Interaction_matrices/Belgium/BELagedist.txt\", dtype='f', delimiter='\\t')"
   ]
  },
  {
   "cell_type": "code",
   "execution_count": 9,
   "metadata": {},
   "outputs": [],
   "source": [
    "ageModel = models.SEIRSAgeModel(initN   = initN,         #16x0 numpy array\n",
    "                                     beta    = 0.032, # probability of infection when encountering infected person\n",
    "                                     sigma   = 5.2, # incubation period (days)\n",
    "                                     Nc = Nc_all, #must be a numpy array; average number of human-to-human interactions per day\n",
    "                                     a = 0.43, # probability of an asymptotic (supermild) infection\n",
    "                                     m = 1-0.43, # probability of a mild infection\n",
    "                                     h = 0.20, # probability of hospitalisation for a mild infection\n",
    "                                     c = 2/3, # probability of hospitalisation in cohort\n",
    "                                     mi = 1/6, # probability of hospitalisation in midcare\n",
    "                                     da = 14, # days of infection when asymptomatic (supermild)\n",
    "                                     dm = 14, # days of infection when mild\n",
    "                                     dc = 7,\n",
    "                                     dmi = 14,\n",
    "                                     dICU = 14,\n",
    "                                     dICUrec = 6,\n",
    "                                     dmirec = 6,\n",
    "                                     dhospital = 3, # days before reaching the hospital when heavy or critical\n",
    "                                     m0 = 0.49, # mortality in ICU\n",
    "                                     maxICU = 2000,\n",
    "                                     totalTests = 0,\n",
    "                                     psi_FP = 0, # probability of a false positive\n",
    "                                     psi_PP = 1, # probability of a correct test\n",
    "                                     dq = 14, # days in quarantaine                          \n",
    "                                     initE = np.ones(16), #must be a numpy array\n",
    "                                     initA = np.zeros(16), \n",
    "                                     initM = np.zeros(16),\n",
    "                                     initC = np.zeros(16),\n",
    "                                     initCmirec = np.zeros(16),\n",
    "                                     initCicurec = np.zeros(16),\n",
    "                                     initMi = np.zeros(16),\n",
    "                                     initICU = np.zeros(16),\n",
    "                                     initR = np.zeros(16),\n",
    "                                     initD = np.zeros(16),\n",
    "                                     initSQ = np.zeros(16),\n",
    "                                     initEQ = np.zeros(16),\n",
    "                                     initAQ = np.zeros(16),\n",
    "                                     initMQ = np.zeros(16),\n",
    "                                     initRQ = np.zeros(16),\n",
    "                                     monteCarlo = False,\n",
    "                                     n_samples = 100,\n",
    "                            )"
   ]
  },
  {
   "cell_type": "code",
   "execution_count": 10,
   "metadata": {},
   "outputs": [
    {
     "data": {
      "image/png": "[encoded data removed]",
      "text/plain": [
       "<Figure size 432x288 with 1 Axes>"
      ]
     },
     "metadata": {
      "needs_background": "light"
     },
     "output_type": "display_data"
    },
    {
     "data": {
      "image/png": "[encoded data removed]",
      "text/plain": [
       "<Figure size 432x288 with 1 Axes>"
      ]
     },
     "metadata": {
      "needs_background": "light"
     },
     "output_type": "display_data"
    }
   ],
   "source": [
    "# Create checkpoints dictionary\n",
    "chk = {'t':       [29,80], \n",
    "       'Nc':      [Nc_home,Nc_all]\n",
    "      }\n",
    "# Run simulation\n",
    "y = ageModel.sim(90,checkpoints=chk)\n",
    "# Visualise\n",
    "ageModel.plotPopulationStatus()\n",
    "ageModel.plotInfected()"
   ]
  },
  {
   "cell_type": "markdown",
   "metadata": {},
   "source": [
    "## Calibrating $\\beta$  in a *business-as-usual* scenario ($N_c = 11.2$)\n",
    "\n",
    "### Performing a least-squares fit\n",
    "\n",
    "The 'SEIRSAgeModel' class contains a function to fit the model to selected data (*fit*) and one function to visualise the result (*plotFit*). Our code uses the **genetic algorithm** from scipy to perform the optimisation. The *fit* function has the following basic syntax,\n",
    "\n",
    "> sim(data, parNames, positions, bounds, weights)\n",
    "> - data: a list containing the dataseries (dtype=np array) to fit the model to. For now, dataseries must be of equal length.\n",
    "> - parNames: a list containing the names (dtype=string) of the model parameters to be fitted.\n",
    "> - positions: a list containing the model states (dtype=np.array) used to calculate the sum of least squares. Each dataseries must be matched to a certain (sum of) model state(s). If multiple entries are provided these are added togheter. The order of the states is given according to the following vector, where S has index 0: (S, E, SM, M, H, C, HH, CH, R, F, SQ, EQ, SMQ, MQ, RQ).\n",
    "\n",
    "\n",
    "The following arguments are optional,\n",
    "> - checkpoints: checkpoint dictionary can be used to calibrate under specific scenarios such as policy changes (default: None).\n",
    "> - setvar: True to replace fitted values in model object after fit is performed (default: False).\n",
    "> - disp: Show sum-of-least-squares after each optimisation iteration (default: True).\n",
    "> - polish: True to use a Nelder–Mead simplex to polish the final result (default: True).\n",
    "> - maxiter: Maximum number of iterations (default: 30).\n",
    "> - popsize: Population size of genetic algorithm (default: 10).\n",
    "\n",
    "The genetic algorithm will by default use all cores available for the optimisation. Using the *fit* attribute, it is possible to calibrate any number of model parameters to any sets of data. We do note that fitting the parameters sm,m,h and c requires modification of the source code. In the example below, the transmission parameter $\\beta$ is sought after using two dataseries. The first is the number of patients in need of intensive care and the second is the total number of people in the hospital. The number of patients in ICU is matched with the CH population pool while the number of hospitalisations is matched with the sum of the HH and CH population pools."
   ]
  },
  {
   "cell_type": "code",
   "execution_count": 10,
   "metadata": {},
   "outputs": [
    {
     "name": "stdout",
     "output_type": "stream",
     "text": [
      "No constraints given.\n",
      "Best after iteration 1: [32.34736005  0.03588791] 2002.9161233983855\n",
      "Best after iteration 2: [32.34736005  0.03588791] 2002.9161233983855\n",
      "Best after iteration 3: [32.34736005  0.03588791] 2002.9161233983855\n",
      "Best after iteration 4: [32.34736005  0.03588791] 2002.9161233983855\n",
      "Best after iteration 5: [32.34736005  0.03588791] 2002.9161233983855\n",
      "Best after iteration 6: [32.34736005  0.03588791] 2002.9161233983855\n",
      "Best after iteration 7: [32.34736005  0.03588791] 2002.9161233983855\n",
      "Best after iteration 8: [32.34736005  0.03588791] 2002.9161233983855\n",
      "Best after iteration 9: [32.34736005  0.03588791] 2002.9161233983855\n",
      "Best after iteration 10: [32.34736005  0.03588791] 2002.9161233983855\n",
      "Best after iteration 11: [32.34736005  0.03588791] 2002.9161233983855\n",
      "Best after iteration 12: [32.34736005  0.03588791] 2002.9161233983855\n",
      "Best after iteration 13: [32.34736005  0.03588791] 2002.9161233983855\n",
      "Best after iteration 14: [32.34736005  0.03588791] 2002.9161233983855\n",
      "Best after iteration 15: [32.34736005  0.03588791] 2002.9161233983855\n",
      "Best after iteration 16: [32.34736005  0.03588791] 2002.9161233983855\n",
      "Best after iteration 17: [32.34736005  0.03588791] 2002.9161233983855\n",
      "Best after iteration 18: [32.34736005  0.03588791] 2002.9161233983855\n",
      "Best after iteration 19: [32.34736005  0.03588791] 2002.9161233983855\n",
      "Best after iteration 20: [32.34736005  0.03588791] 2002.9161233983855\n",
      "Best after iteration 21: [32.34736005  0.03588791] 2002.9161233983855\n",
      "Best after iteration 22: [32.34736005  0.03588791] 2002.9161233983855\n",
      "Best after iteration 23: [32.34736005  0.03588791] 2002.9161233983855\n",
      "Best after iteration 24: [32.34736005  0.03588791] 2002.9161233983855\n",
      "Best after iteration 25: [32.34736005  0.03588791] 2002.9161233983855\n",
      "Best after iteration 26: [32.34736005  0.03588791] 2002.9161233983855\n",
      "Best after iteration 27: [32.34736005  0.03588791] 2002.9161233983855\n",
      "Best after iteration 28: [32.34736005  0.03588791] 2002.9161233983855\n",
      "Best after iteration 29: [32.34736005  0.03588791] 2002.9161233983855\n",
      "Best after iteration 30: [32.34736005  0.03588791] 2002.9161233983855\n",
      "Best after iteration 31: [32.34736005  0.03588791] 2002.9161233983855\n",
      "Best after iteration 32: [32.34736005  0.03588791] 2002.9161233983855\n",
      "Best after iteration 33: [32.34736005  0.03588791] 2002.9161233983855\n",
      "Best after iteration 34: [32.34736005  0.03588791] 2002.9161233983855\n",
      "Best after iteration 35: [32.34736005  0.03588791] 2002.9161233983855\n",
      "Best after iteration 36: [32.34736005  0.03588791] 2002.9161233983855\n",
      "Best after iteration 37: [32.34736005  0.03588791] 2002.9161233983855\n",
      "Best after iteration 38: [32.34736005  0.03588791] 2002.9161233983855\n",
      "Best after iteration 39: [32.34736005  0.03588791] 2002.9161233983855\n",
      "Best after iteration 40: [32.34736005  0.03588791] 2002.9161233983855\n",
      "Best after iteration 41: [32.34736005  0.03588791] 2002.9161233983855\n",
      "Best after iteration 42: [32.34736005  0.03588791] 2002.9161233983855\n",
      "Best after iteration 43: [32.34736005  0.03588791] 2002.9161233983855\n",
      "Best after iteration 44: [32.34736005  0.03588791] 2002.9161233983855\n",
      "Best after iteration 45: [32.34736005  0.03588791] 2002.9161233983855\n",
      "Best after iteration 46: [32.34736005  0.03588791] 2002.9161233983855\n",
      "Best after iteration 47: [32.34736005  0.03588791] 2002.9161233983855\n",
      "Best after iteration 48: [32.34736005  0.03588791] 2002.9161233983855\n",
      "Best after iteration 49: [32.34736005  0.03588791] 2002.9161233983855\n",
      "Best after iteration 50: [32.34736005  0.03588791] 2002.9161233983855\n",
      "Best after iteration 51: [32.34736005  0.03588791] 2002.9161233983855\n",
      "Best after iteration 52: [32.34736005  0.03588791] 2002.9161233983855\n",
      "Best after iteration 53: [32.34736005  0.03588791] 2002.9161233983855\n",
      "Best after iteration 54: [32.34736005  0.03588791] 2002.9161233983855\n",
      "Best after iteration 55: [32.34736005  0.03588791] 2002.9161233983855\n",
      "Best after iteration 56: [32.34736005  0.03588791] 2002.9161233983855\n",
      "Best after iteration 57: [32.34736005  0.03588791] 2002.9161233983855\n",
      "Best after iteration 58: [32.34736005  0.03588791] 2002.9161233983855\n",
      "Best after iteration 59: [32.34736005  0.03588791] 2002.9161233983855\n",
      "Best after iteration 60: [32.34736005  0.03588791] 2002.9161233983855\n",
      "Best after iteration 61: [32.34736005  0.03588791] 2002.9161233983855\n",
      "Best after iteration 62: [32.34736005  0.03588791] 2002.9161233983855\n",
      "Best after iteration 63: [32.34736005  0.03588791] 2002.9161233983855\n",
      "Best after iteration 64: [32.34736005  0.03588791] 2002.9161233983855\n",
      "Best after iteration 65: [32.34736005  0.03588791] 2002.9161233983855\n",
      "Best after iteration 66: [32.34736005  0.03588791] 2002.9161233983855\n",
      "Best after iteration 67: [32.34736005  0.03588791] 2002.9161233983855\n",
      "Best after iteration 68: [32.34736005  0.03588791] 2002.9161233983855\n",
      "Best after iteration 69: [32.34736005  0.03588791] 2002.9161233983855\n",
      "Best after iteration 70: [32.34736005  0.03588791] 2002.9161233983855\n",
      "Best after iteration 71: [32.34736005  0.03588791] 2002.9161233983855\n",
      "Best after iteration 72: [32.34736005  0.03588791] 2002.9161233983855\n",
      "Best after iteration 73: [32.34736005  0.03588791] 2002.9161233983855\n",
      "Best after iteration 74: [32.34736005  0.03588791] 2002.9161233983855\n",
      "Best after iteration 75: [32.34736005  0.03588791] 2002.9161233983855\n",
      "Best after iteration 76: [32.34736005  0.03588791] 2002.9161233983855\n",
      "Best after iteration 77: [32.34736005  0.03588791] 2002.9161233983855\n",
      "Best after iteration 78: [32.34736005  0.03588791] 2002.9161233983855\n",
      "Best after iteration 79: [32.34736005  0.03588791] 2002.9161233983855\n",
      "Best after iteration 80: [32.34736005  0.03588791] 2002.9161233983855\n",
      "Best after iteration 81: [32.34736005  0.03588791] 2002.9161233983855\n",
      "Best after iteration 82: [32.34736005  0.03588791] 2002.9161233983855\n",
      "Best after iteration 83: [32.34736005  0.03588791] 2002.9161233983855\n",
      "Best after iteration 84: [32.34736005  0.03588791] 2002.9161233983855\n",
      "Best after iteration 85: [32.34736005  0.03588791] 2002.9161233983855\n",
      "Best after iteration 86: [32.34736005  0.03588791] 2002.9161233983855\n",
      "Best after iteration 87: [32.34736005  0.03588791] 2002.9161233983855\n",
      "Best after iteration 88: [32.34736005  0.03588791] 2002.9161233983855\n",
      "Best after iteration 89: [32.34736005  0.03588791] 2002.9161233983855\n",
      "Best after iteration 90: [32.34736005  0.03588791] 2002.9161233983855\n",
      "Best after iteration 91: [32.34736005  0.03588791] 2002.9161233983855\n",
      "Best after iteration 92: [32.34736005  0.03588791] 2002.9161233983855\n",
      "Best after iteration 93: [32.34736005  0.03588791] 2002.9161233983855\n",
      "Best after iteration 94: [32.34736005  0.03588791] 2002.9161233983855\n",
      "Best after iteration 95: [32.34736005  0.03588791] 2002.9161233983855\n",
      "Best after iteration 96: [32.34736005  0.03588791] 2002.9161233983855\n",
      "Best after iteration 97: [32.34736005  0.03588791] 2002.9161233983855\n",
      "Best after iteration 98: [32.34736005  0.03588791] 2002.9161233983855\n",
      "Best after iteration 99: [32.34736005  0.03588791] 2002.9161233983855\n",
      "Best after iteration 100: [32.34736005  0.03588791] 2002.9161233983855\n",
      "Stopping search: maximum iterations reached --> 100\n",
      "[32.34736005  0.03588791]\n"
     ]
    }
   ],
   "source": [
    "# hardcoded data vectors\n",
    "#ICUvect= np.array([[5,24,33,53,79,100,130,164,238,290,322,381,474,605,690,789,867,927,1021,1088,1144,1205,1245,1261,1257,1260,1276,1285,1278,1262,1232,1234,1223,1204,1182,1140,1119,1081,1071,1079]])\n",
    "#hospital = np.array([[58,97,163,264,368,496,648,841,1096,1380,1643,1881,2137,2715,3068,3640,4077,4468,4884,4975,5206,5358,5492,5509,5600,5738,5692,5590,5610,5635,5409,5393,5536,5524,5309,5161,5069,4871,4920,4976]])\n",
    "# vector with dates\n",
    "index=pd.date_range('2020-03-15', freq='D', periods=ICUvect.size)\n",
    "# data series used to calibrate model must be given to function 'plotFit' as a list\n",
    "idx = -40\n",
    "index = index[0:idx]\n",
    "data=[np.transpose(ICUvect[:,0:idx]),np.transpose(hospital[:,0:idx])]\n",
    "# set optimisation settings\n",
    "parNames = ['beta'] # must be a list!\n",
    "positions = [np.array([5,6]),np.array([4,5,6])] # must be a list!\n",
    "bounds=((10,60),(0.01,0.05)) # must be a list!\n",
    "weights = np.array([1,0])\n",
    "# run optimisation\n",
    "theta = model.fit(data,parNames,positions,bounds,weights,setvar=True,maxiter=100,popsize=200)"
   ]
  },
  {
   "cell_type": "markdown",
   "metadata": {},
   "source": [
    "### Visualising the fit\n",
    "\n",
    "Visualising the resulting fit is easy and can be done using the plotFit function. The functions uses the following basic syntax,\n",
    "\n",
    "plotFit(index,data,positions)\n",
    "> - index: vector with timestamps corresponding to data.\n",
    "> - data: list containing the dataseries (dtype=np array) to fit the model to. For now, dataseries must be of equal length.\n",
    "> - positions: list containing the model states (dtype=np.array) used to calculate the sum of least squares.\n",
    "\n",
    "The following arguments are optional,\n",
    "> - dataMkr: list containing the markers (dtype=str) to be used to visualise the data. Default value works up to five dataseries and is equal to: ['o','v','s','*','^'].\n",
    ">- modelClr: list containing the colors (dtype=str) to be used to visualise the model fit. Default value works up to five dateseries and is equal to: ['green','orange','red','black','blue'].\n",
    "> - legendText: tuple containing the legend entries. Disabled per default.\n",
    "> - titleText: string containing the fit title. Disable per default.\n",
    "> - filename: string with a filename + extension to save the figure. The figure is not saved per default.\n",
    "> - getfig: True to return ax, fig (default: False)"
   ]
  },
  {
   "cell_type": "code",
   "execution_count": 14,
   "metadata": {},
   "outputs": [
    {
     "data": {
      "image/png": "[encoded data removed]",
      "text/plain": [
       "<Figure size 432x288 with 1 Axes>"
      ]
     },
     "metadata": {
      "needs_background": "light"
     },
     "output_type": "display_data"
    }
   ],
   "source": [
    "# plot result\n",
    "model.plotFit(index,data,positions,modelClr=['red','orange'],legendText=('ICU (model)','Hospitalized (model)','ICU (data)','Hospitalized (data)'),titleText='Belgium')"
   ]
  },
  {
   "cell_type": "markdown",
   "metadata": {},
   "source": [
    "## Model Predictive control (MPC)\n",
    "\n",
    "### Optimising government policy\n",
    "\n",
    "#### Process control for the layman\n",
    "\n",
    "As we have the impression that the control part, which we see as our main addition to the problem, is more difficult to grasp for the layman, here is a short intro to process control. Experts in control are welcome to skip this section.\n",
    "\n",
    "A predictive model consists of a set of equations and aims to predict how the system will behave in the future given a certain input. Process control flips this around and aims at determining what input is needed to achieve a desired system behavior (= goal). It is a tool that helps us in “controlling” how we want a system to behave. It is commonly applied in many industries, but also in our homes (e.g. central heating, washing machine). It's basically everywhere. Here's how it works. An algorithm monitors the deviation between the goal and the true system value and then computes the necessary action to \"drive\" the system to its goal by means of an actuator (in industry this is typically a pump or a valve). Applying this to Covid-19, the government wants to \"control\" the spread of the virus in the population by imposing measures (necessary control actions) on the public (which is the actuator here) and achieve the goal that the number of severely sick people does not become larger than can be handled by the health care system. However, the way the population behaves is a lot more complex compared to the heating control in our homes since not only epidemiology (virus spread) but also different aspects of human behavior on both the individual and the societal level (sociology, psychology, economy) are involved. This leads to multiple criteria we want to ideally control simultaneously and we want to use the \"smartest\" algorithm we can get our hands on.\n",
    "\n",
    "#### The optimizePolicy function\n",
    "\n",
    "The 'SEIRSAgeModel' class contains an implementation of the MPC controller in the function *optimizePolicy*. For now, the controller minimises a weighted squared sum-of-errors between multiple setpoints and model predictions. The algorithm can use any variable to control the virus outbreak, but we recommend sticking with the number of random daily contacts $N_c$ and the total number of random tests ('totalTests') as only these have been tested. We also recommend disabling age-structuring in the model before running the MPC as this feature requires discretisation of the interaction matrix to work which is not yet implemented. Future work will extend the MPC controller to work with age-structuring feature inherent to the model. Future work is also aimed at including an economic cost function to discriminate between control handles. Our MPC uses the **genetic algorithm** from scipy.optimize to perform the optimisation, we recommend using at least a populationsize of 20 and at least 100 iterations to ensure that the trajectory is 'optimal'. The *optimizePolicy* function has the following basic syntax,\n",
    "\n",
    "optimizePolicy(parNames, bounds, setpoints, positions, weights)\n",
    "> - parNames: a list containing the names (dtype=string) of the model parameters to be used as a control handle.\n",
    "> - bounds: A list containing the lower- and upper boundaries of each parameter to be used as a control handle. Each entry in the list should be a 1D numpy array containing the lower- and upper bound for the respective control handle.\n",
    "> - setpoints: A list with the numerical values of the desired model output.\n",
    "> - positions: a list containing the model states (dtype=np.array) used to calculate the sum of least squares. Each modelouput in the given position is matched with a provided setpoint. If multiple position entries are provided, the output in these positions is added togheter. The order of the states is given according to the following vector, where S has index 0: (S, E, SM, M, H, C, HH, CH, R, F, SQ, EQ, SMQ, MQ, RQ).\n",
    "> - weights: a list containing the weighting fractions of each population pool ouput in the sum-of-squared errors.\n",
    "\n",
    "The following arguments are optional,\n",
    "> - policy_period: length of one policy interval (default: 7 days).\n",
    "> - N: number of future policy intervals to be optimised, also called 'control horizon' (default: 6).\n",
    "> - P: number of policy intervals over which the sum of squared errors is calculated, also called 'prediction horizon' (default:12).\n",
    "> - disp: Show sum-of-least-squares after each optimisation iteration (default: True).\n",
    "> - polish: True to use a Nelder–Mead simplex to polish the final result (default: True).\n",
    "> - maxiter: Maximum number of iterations (default: 100).\n",
    "> - popsize: Population size of genetic algorithm (default: 20).\n",
    "\n",
    "The function returns a one-dimensional list containing the optimal values of the control handles. The length of this list is equal to the length of the control horizon (N) times the number of control handles. The list thus lists all control handles and their optimal values in their respective order. **The optimal policy is assigned to the SEIRSAgeModel object and is only overwritten when a new optimisation is performed. Future work could include the creation of a new object for every optimal policy.** The genetic algorithm will by default use all cores available for the optimisation."
   ]
  },
  {
   "cell_type": "code",
   "execution_count": null,
   "metadata": {},
   "outputs": [],
   "source": [
    "parNames = ['Nc','totalTests']\n",
    "bounds = [np.array([0,11.2]),np.array([0,1e6])]\n",
    "setpoints = [1200,5000]\n",
    "positions = [np.array([7]),np.array([6,7])]\n",
    "weights = [1,0]\n",
    "model.optimizePolicy(parNames,bounds,setpoints,positions,weights,N=4,P=4,polish=False,maxiter=10,popsize=5)"
   ]
  },
  {
   "cell_type": "markdown",
   "metadata": {},
   "source": [
    "### Visualising the effect of government policy"
   ]
  },
  {
   "cell_type": "markdown",
   "metadata": {},
   "source": [
    "Visualising the resulting optimal policy is easy and can be done using the plotOptimalPolicy function. We note that the functionality of*plotOptimalPolicy** is for now, very basic and will be extended in the future. The function is heavily based on the *plotInfected* visualisation. The function uses the following basic syntax,\n",
    "\n",
    "plotOptimalPolicy(parNames,setpoints,policy_period)\n",
    "> - parNames: a list containing the names (dtype=string) of the model parameters to be used as a control handle.\n",
    "> - setpoints: A list with the numerical values of the desired model output.\n",
    "> - policy_period: length of one policy interval (default: 7 days).\n",
    "\n",
    "The following arguments are optional,\n",
    "> - asymptotic: set to *True* to include the supermild pool in the visualisation.\n",
    "> - mild: set to *True* to include the mild pool in the visualisation.\n",
    "> - filename: string with a filename + extension to save the figure. The figure is not saved per default."
   ]
  },
  {
   "cell_type": "code",
   "execution_count": null,
   "metadata": {},
   "outputs": [],
   "source": [
    "model.plotOptimalPolicy(parNames,setpoints,policy_period=7)"
   ]
  },
  {
   "cell_type": "markdown",
   "metadata": {},
   "source": [
    "## Specific methods\n",
    "\n",
    "### *realTimeScenario*\n",
    "\n",
    "The 'SEIRSAgeModel' class contains one function to quickly perform and visualise scenario analysis for a given country. The user is obligated to supply the function with: 1) a set of dataseries, 2) the date at which the data starts, 3) the positions in the model output that correspond with the dataseries and 4) a checkpoints dictionary containing the past governement actions, from hereon referred to as the *pastPolicy* dictionary. If no additional arguments are provided, the data and the corresponding model fit are visualised from the user supplied start date up until the end date of the data plus 14 days. The end date of the visualisation can be altered by defining the optional keyworded argument *T_extra* (default: 14 days). Optionally a dictionary of future policies can be used to simulate scenarios starting on the first day after the end date of the dataseries. The function *realTimeScenario* accomplishes this by merging both the *pastPolicy* and *futurePolicy* dictionaries using the backend function *mergeDict()*. The syntax without optional arguments is as follows,\n",
    "\n",
    "realTimeScenario(startDate, data, positions, pastPolicy)\n",
    "> - startDate: a string with the date corresponding to the first entry of the dataseries (format: 'YYYY-MM-DD'). \n",
    "> - data: a list containing the dataseries (dtype=np array) to fit the model to. For now, dataseries must be of equal length and start on the same day.\n",
    "> - positions: a list containing the model states (dtype=np.array) used to calculate the sum of least squares. Each dataseries must be matched to a certain (sum of) model state(s). If multiple entries are provided these are added togheter. The order of the states is given according to the following vector, where S has index 0: (S, E, SM, M, H, C, HH, CH, R, F, SQ, EQ, SMQ, MQ, RQ).\n",
    "> - pastPolicy: a checkpoints dictionary containing past government actions.\n",
    "\n",
    "The following (simulation) arguments are optional,\n",
    "> - futurePolicy: a checkpoint dictionary used to simulate scenarios in the future (default: None). By default, time '1' in this dictionary is the date of the first day after the end of the data.\n",
    "> - T_extra: Extra simulation time after last date of the data if no futurePolicy dictionary is provided. Extra simulation time after last time in futurePolicy dictionary.\n",
    "\n",
    "The following arguments are for visualisation,\n",
    "> - dataMkr: list containing the markers (dtype=str) to be used to visualise the data. Default value works up to five dataseries and is equal to: ['o','v','s','*','^'].\n",
    ">- modelClr: list containing the colors (dtype=str) to be used to visualise the model fit. Default value works up to five dateseries and is equal to: ['green','orange','red','black','blue'].\n",
    "> - legendText: tuple containing the legend entries. Disabled per default.\n",
    "> - titleText: string containing the fit title. Disable per default.\n",
    "> - filename: string with a filename + extension to save the figure. The figure is not saved per default.\n",
    "> - getfig: True to return ax, fig (default: False)"
   ]
  },
  {
   "cell_type": "code",
   "execution_count": null,
   "metadata": {},
   "outputs": [],
   "source": [
    "# Define data as a list containing data timeseries\n",
    "data=[np.transpose(ICUvect),np.transpose(hospital)]\n",
    "# Create a dictionary of past policies\n",
    "pastPolicy = {'t':       [13], \n",
    "              'Nc':      [np.array([1.8])]\n",
    "              }\n",
    "# Create a dictionary of future policies\n",
    "futurePolicy = {'t':     [1], \n",
    "                'Nc':    [np.array([5])],\n",
    "              }\n",
    "# Define the data corresponding to the first data entry\n",
    "startDate='2020-03-13'\n",
    "# Run realTimeScenario\n",
    "model.realTimeScenario(startDate,data,positions,pastPolicy,futurePolicy=futurePolicy,T_extra=21,\n",
    "                       modelClr=['red','orange'],legendText=('ICU (model)','Hospital (model)','ICU (data)','Hospital (data)'),\n",
    "                       titleText='Belgium')"
   ]
  },
  {
   "cell_type": "markdown",
   "metadata": {},
   "source": [
    "### *realTimeMPC*\n",
    "\n",
    "The 'SEIRSAgeModel' class contains one function to quickly optimise the policy for a given country using Model Predictive Control. The user is obligated to supply the function with: 1) a set of dataseries, 2) the date at which the data starts, 3) the positions in the model output that correspond with the dataseries, 4) a checkpoints dictionary containing the past governement actions, from hereon referred to as the *pastPolicy* dictionary and 5) Additional MPC arguments. The source code of *realTimeMPC* consists of seven distinct steps. The syntax without optional arguments is as follows,\n",
    "\n",
    "realTimeMPC(startDate, data, positions, pastPolicy,parNames,bounds,setpoints,weights)\n",
    "> - startDate: a string with the date corresponding to the first entry of the dataseries (format: 'YYYY-MM-DD'). \n",
    "> - data: a list containing the dataseries (dtype=np array) to fit the model to. For now, dataseries must be of equal length and start on the same day.\n",
    "> - positions: a list containing the model states (dtype=np.array) used to calculate the sum of least squares. Each dataseries must be matched to a certain (sum of) model state(s). If multiple entries are provided these are added togheter. The order of the states is given according to the following vector, where S has index 0: (S, E, SM, M, H, C, HH, CH, R, F, SQ, EQ, SMQ, MQ, RQ).\n",
    "> - pastPolicy: a checkpoints dictionary containing past government actions.\n",
    "> - parNames: a list containing the names (dtype=string) of the model parameters to be used as a control handle.\n",
    "> - bounds: A list containing the lower- and upper boundaries of each parameter to be used as a control handle. Each entry in the list should be a 1D numpy array containing the lower- and upper bound for the respective control handle.\n",
    "> - setpoints: A list with the numerical values of the desired model output.\n",
    "> - weights: a list containing the weighting fractions of each population pool ouput in the sum-of-squared errors.\n",
    "\n",
    "The following arguments are optional,\n",
    "> - policy_period: length of one policy interval (default: 7 days).\n",
    "> - N: number of future policy intervals to be optimised, also called 'control horizon' (default: 6).\n",
    "> - P: number of policy intervals over which the sum of squared errors is calculated, also called 'prediction horizon' (default:12).\n",
    "> - disp: Show sum-of-least-squares after each optimisation iteration (default: True).\n",
    "> - polish: True to use a Nelder–Mead simplex to polish the final result (default: True).\n",
    "> - maxiter: Maximum number of iterations (default: 100).\n",
    "> - popsize: Population size of genetic algorithm (default: 20).\n",
    "\n",
    "The following arguments are for visualisation,\n",
    "> - dataMkr: list containing the markers (dtype=str) to be used to visualise the data. Default value works up to five dataseries and is equal to: ['o','v','s','*','^'].\n",
    ">- modelClr: list containing the colors (dtype=str) to be used to visualise the model fit. Default value works up to five dateseries and is equal to: ['green','orange','red','black','blue'].\n",
    "> - legendText: tuple containing the legend entries. Disabled per default.\n",
    "> - titleText: string containing the fit title. Disable per default.\n",
    "> - filename: string with a filename + extension to save the figure. The figure is not saved per default.\n",
    "> - getfig: True to return ax, fig (default: False)\n",
    "\n",
    "Note that the control handles are not yet incorporated in the visualisation, this will be done in the near future."
   ]
  },
  {
   "cell_type": "code",
   "execution_count": null,
   "metadata": {},
   "outputs": [],
   "source": [
    "parNames = ['Nc']\n",
    "bounds = [np.array([1.5,11.2])]\n",
    "setpoints = [900,4000]\n",
    "positions = [np.array([7]),np.array([6,7])]\n",
    "weights = [0,1]\n",
    "model.realTimeMPC(startDate,data,positions,pastPolicy,parNames,bounds,setpoints,weights,\n",
    "                        policy_period=7,N=4,P=6,disp=True,polish=False,maxiter=20,popsize=10,\n",
    "                        dataMkr=['o','v','s','*','^'],modelClr=['orange','red'],\n",
    "                        legendText=('ICU (model)','Hospital (model)','ICU (data)','Hospital (data)'),\n",
    "                        titleText='Belgium',filename=None)"
   ]
  }
 ],
 "metadata": {
  "kernelspec": {
   "display_name": "Python 3",
   "language": "python",
   "name": "python3"
  },
  "language_info": {
   "codemirror_mode": {
    "name": "ipython",
    "version": 3
   },
   "file_extension": ".py",
   "mimetype": "text/x-python",
   "name": "python",
   "nbconvert_exporter": "python",
   "pygments_lexer": "ipython3",
   "version": "3.7.1"
  },
  "nav_menu": {},
  "toc": {
   "navigate_menu": true,
   "number_sections": true,
   "sideBar": true,
   "threshold": "3",
   "toc_cell": true,
   "toc_section_display": "block",
   "toc_window_display": true
  }
 },
 "nbformat": 4,
 "nbformat_minor": 2
}
