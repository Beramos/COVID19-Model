{
 "cells": [
  {
   "cell_type": "markdown",
   "metadata": {},
   "source": [
    "# Description of the Economic Model \n",
    "The economic model uses the latest econonic data from Belgium to estimate the impact of the pandemic.\n",
    "It is to be run in parallel to the SEIRS Network model and could easily be merged into it. "
   ]
  },
  {
   "cell_type": "code",
   "execution_count": null,
   "metadata": {},
   "outputs": [],
   "source": [
    "import numpy as np\n",
    "import economic_model"
   ]
  },
  {
   "cell_type": "markdown",
   "metadata": {},
   "source": [
    "To launch it, simply create an `EconomicModel` object."
   ]
  },
  {
   "cell_type": "code",
   "execution_count": null,
   "metadata": {},
   "outputs": [],
   "source": [
    "EcoMod = economic_model.EconomicModel\n"
   ]
  },
  {
   "cell_type": "markdown",
   "metadata": {},
   "source": [
    "## Available data sources\n",
    "At the moment, three major sources of data are available and loaded:\n",
    "* The Sectoral Data (Sectoral_data.xlsx) contains the value added and the employment by each economic sector of Belgium.\n",
    "* The \"Staff distribution by sector.xlsx\" is recent data (recieved on April 25th) covering 70% of Belgian workforce that provide the breakdown of people working from home, from their usual workplace, a mix of both or are temporarily unemployed or absent. This data is taken as the maximal impact from confinment measures.\n",
    "* Demographic data from https://statbel.fgov.be/en/themes/population/structure-population used to estimate the population of children and students (people below 20 years old), retired people (70 y.o. and above) and the full population. \n",
    "The demographic and sectoral data are also used to estimate the amount of non-working people between 20 y.o. and 70 y.o.\n",
    "\n",
    "The `LoadInputs` function recovers and stores data from theses sources.\n",
    "Three variables hold these data:\n",
    "\n",
    "```python\n",
    "Inputs = 'Industry breakdown'      # Description of industry classes\n",
    "         'Value Added'             # Economic value added by Belgian workers (per year)\n",
    "         'Employment'              # Number of employee per industry\n",
    "         'Value Added per Employe' # Value added per employee\n",
    "         'Employment fraction'     # Ratio of employees in each industry with respect to total number of workers.\n",
    "\n",
    "ReferenceNumbers = 'Population'         # Full population of Belgium\n",
    "                   'Student population' # Population of \"students\", i.e. Belgians below 20.\n",
    "                   'Retired population' # Population of \"retired\", i.e. Belgians above 70.\n",
    "                   'Working population' # Population of \"working\" Belglian without pandemic.\n",
    "\n",
    "Adaptation = 'Work at home'             # Employees working from home\n",
    "             'Mix home - office'        # Employees using a mix of work from home and at the workplace\n",
    "             'Work at work'             # Employees working from their workplace\n",
    "             'Temporary Unemployed'     # Employees temporarily unemployed\n",
    "             'Absent'                   # Employees absent from work\n",
    "             'Date of Survey'           # Date of the reception of the survey`\n",
    "```\n",
    "These informations are stored in python dictionnary and can be accessed from the model as below: "
   ]
  },
  {
   "cell_type": "code",
   "execution_count": null,
   "metadata": {},
   "outputs": [],
   "source": [
    "EcoMod.LoadInputs(EcoMod)\n",
    "print('The stored population of Belgium is ' + str(EcoMod.ReferenceNumbers['Population']) + ' inhabitants')"
   ]
  },
  {
   "cell_type": "markdown",
   "metadata": {},
   "source": [
    "## Building an economical model\n",
    "The economic model assesses a large network of individuals from the SEIRS Network Model. Once each individual is assigned a health status, they can receive an economical status which is the combination of an `Occupation` and a `State`.\n",
    "This status could be integrated to SEIRS Network but, at the moment, it is simply generated in a stand-alone 2D matrix. "
   ]
  },
  {
   "cell_type": "markdown",
   "metadata": {},
   "source": [
    "## Addind an occupation to a network of individuals\n",
    "The network of individuals can be assigned to an occupation and a state.\n",
    "The occupation will be any of the following, based on demographic data and 2018 employment census:\n",
    "* [-2] Student (0-20 yo)\n",
    "* [-1] Retired (70+ yo)\n",
    "* [0] Non-working (active population that do not work or seek employment)\n",
    "* [1 - 37] Working or work seeker in one of 37 economical sectors\n",
    "\n",
    "The state of non-working population (students, retired or non-working) can be:\n",
    "* [-1] Confined\n",
    "* [0] Unconfined\n",
    "And the state of working population can be:\n",
    "* [1] Working from home\n",
    "* [2] Mix of working from home and at work (office/factory/etc.)\n",
    "* [3] Working at work (office/factory/etc.)\n",
    "* [4] Temporarily unemployed\n",
    "* [5] Absent\n",
    "\n",
    "The function `AssignOccupation` returns a Status Matrix that assigns both an occupation and a state of work randomly, according to current data. Each line correspond to one individual. Column zero holds the `Occupation` and column 1 holds the `State`."
   ]
  },
  {
   "cell_type": "code",
   "execution_count": null,
   "metadata": {},
   "outputs": [],
   "source": [
    "PopulationMatrix = EcoMod.AssignOccupation(EcoMod,N = 2000, ConfinementPolicy = True)\n",
    "print(PopulationMatrix[1:10,:])"
   ]
  },
  {
   "cell_type": "markdown",
   "metadata": {},
   "source": [
    "Occupation information about the population can be extracted with the function `ComputeOccupation`. The number of confined, unconfined, working and unemployed individuals are returned. "
   ]
  },
  {
   "cell_type": "code",
   "execution_count": null,
   "metadata": {},
   "outputs": [],
   "source": [
    "print(EcoMod.ComputeOccupation(EcoMod,PopulationMatrix))"
   ]
  },
  {
   "cell_type": "markdown",
   "metadata": {},
   "source": [
    "## Added Value\n",
    "The `Added Value` gives an indication of the state of the economy. Industries need different amount of work to generate value, which is reflected in the added value. \n",
    "The function `ComputeValueAdded` computes the value added by the workers of a network by multiplying the `Value added by a Belgian worker` by the number of active workers in that specific industry. At the moment, no distinction is made wheter the work is performed at home or at the usual workplace."
   ]
  },
  {
   "cell_type": "code",
   "execution_count": null,
   "metadata": {},
   "outputs": [],
   "source": [
    "print(\"% 10.2f euros\"% (EcoMod.ComputeValueAdded(EcoMod,PopulationMatrix))) "
   ]
  },
  {
   "cell_type": "markdown",
   "metadata": {},
   "source": [
    "## Altering the confinement policy\n",
    "In order to assess different scenarios, it is possible to alter restrictions on selected sectors of the population with the function `ChangeConfinementPolicy`. \n",
    "A call to `ChangeConfinementPolicy allows to set non-working individuals (students, retired, non-workers) to Confined or Unconfined status or to set a specific economy sector to a new confinement policy, between [0 - 1]. A policy of 0 maximizes the work from home and unemployment while a policy of 1 sends everyone to work (office/factory/etc.). Any number in between offers a linear tradeof.\n",
    "\n",
    "For example, lifting the confinement on children and students can be done as follow:"
   ]
  },
  {
   "cell_type": "code",
   "execution_count": null,
   "metadata": {},
   "outputs": [],
   "source": [
    "PopulationMatrix = EcoMod.ChangeConfinementPolicy(EcoMod,PopulationMatrix,-2, 1)\n",
    "print(EcoMod.ComputeOccupation(EcoMod,PopulationMatrix))"
   ]
  },
  {
   "cell_type": "markdown",
   "metadata": {},
   "source": [
    "Then opening back all retails (economic sector number 19):"
   ]
  },
  {
   "cell_type": "code",
   "execution_count": null,
   "metadata": {},
   "outputs": [],
   "source": [
    "PopulationMatrix = EcoMod.ChangeConfinementPolicy(EcoMod,PopulationMatrix,19, 1)\n",
    "print(EcoMod.ComputeOccupation(EcoMod,PopulationMatrix))\n",
    "print(\"% 10.2f euros\"% (EcoMod.ComputeValueAdded(EcoMod,PopulationMatrix))) "
   ]
  },
  {
   "cell_type": "markdown",
   "metadata": {},
   "source": [
    "Therefore, by reopening the shops, the daily added value of the network increased by about 10% (numbers will differ due to the random initialization of the network)."
   ]
  },
  {
   "cell_type": "markdown",
   "metadata": {},
   "source": [
    "## State of development of the Economic Model\n",
    "\n",
    "The model is still very basic, with only two objective functions (`ComputeOccupation` and `ComputeValueadded`).\n",
    "\n",
    "Input-Output tables are available in the DATA folder, but not loaded in the model. \n",
    "\n",
    "No modification to the SEIRS model has been made to couple it with the economic model. However, as of today (April 27th), the link can be made by adding two attributes to each individual in the SEIRS: Occupation and Status. \n"
   ]
  }
 ],
 "metadata": {
  "kernelspec": {
   "display_name": "Python 3",
   "language": "python",
   "name": "python3"
  },
  "language_info": {
   "codemirror_mode": {
    "name": "ipython",
    "version": 3
   },
   "file_extension": ".py",
   "mimetype": "text/x-python",
   "name": "python",
   "nbconvert_exporter": "python",
   "pygments_lexer": "ipython3",
   "version": "3.7.6"
  }
 },
 "nbformat": 4,
 "nbformat_minor": 4
}
