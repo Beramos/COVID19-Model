{
 "cells": [
  {
   "cell_type": "markdown",
   "metadata": {},
   "source": [
    "The economic model uses the latest econonic data from Belgium to estimate the impact of the pandemic.\n",
    "\n",
    "It is to be run in parallel to the SEIRS Network model and could easily be merged into it. "
   ]
  },
  {
   "cell_type": "code",
   "execution_count": null,
   "metadata": {},
   "outputs": [],
   "source": [
    "import numpy as np\n",
    "import economic_model"
   ]
  },
  {
   "cell_type": "raw",
   "metadata": {},
   "source": [
    "To launch it, simply create an EconomicModel object.\n",
    "The LoadInputs() function recovers and stores economic data from Belgium."
   ]
  },
  {
   "cell_type": "code",
   "execution_count": null,
   "metadata": {},
   "outputs": [],
   "source": [
    "EcoMod = economic_model.EconomicModel\n",
    "EcoMod.LoadInputs(EcoMod)"
   ]
  },
  {
   "cell_type": "markdown",
   "metadata": {},
   "source": [
    "The network of individuals can be assigned to an occupation and a state.\n",
    "The occupation will be any of the following, based on demographic data and 2018 employment census:\n",
    "* [-2] Student (0-20 yo)\n",
    "* [-1] Retired (70+ yo)\n",
    "* [0] Non-working (active population that do not work or seek employment)\n",
    "* [1 - 37] Working or work seeker in one of 37 economical sectors\n",
    "\n",
    "The state of non-working population can be:\n",
    "* [-1] Confined\n",
    "* [0] Unconfined\n",
    "And the state of working population can be:\n",
    "* [1] Working from home\n",
    "* [2] Mix of working from home and at work (office/factory/etc.)\n",
    "* [3] Working at work (office/factory/etc.)\n",
    "* [4] Temporarily unemployed\n",
    "* [5] Absent\n",
    "\n",
    "The function AssignOccupation returns a Status Matrix that assigns both an occupation and a state of work randomly, according to current data."
   ]
  },
  {
   "cell_type": "code",
   "execution_count": null,
   "metadata": {},
   "outputs": [],
   "source": [
    "PopulationMatrix = EcoMod.AssignOccupation(EcoMod,N = 2000, ConfinementPolicy = True)\n",
    "print(PopulationMatrix[1:10,:])"
   ]
  },
  {
   "cell_type": "markdown",
   "metadata": {},
   "source": [
    "Occupation information about the population can be extracted with the function ComputeOccupation. The number of confined, unconfined, working and unemployed individuals are returned. "
   ]
  },
  {
   "cell_type": "code",
   "execution_count": null,
   "metadata": {},
   "outputs": [],
   "source": [
    "print(EcoMod.ComputeOccupation(EcoMod,PopulationMatrix))"
   ]
  },
  {
   "cell_type": "markdown",
   "metadata": {},
   "source": [
    "In order to assess different scenarios, it is possible to alter restrictions on selected sectors of the population with the function ChangeConfinementPolicy. \n",
    "A call to ChangeConfinementPolicy allows to set non-working individuals (students, retired, non-workers) to Confined or Unconfined status or to set a specific economy sector to a new confinement policy, between [0 - 1]. A policy of 0 maximizes the work from home and unemployment while a policy of 1 sends everyone to work (office/factory/etc.). Any number in between offers a linear tradeof.\n",
    "\n",
    "For example, lifting the confinement on children and students can be done as follow:"
   ]
  },
  {
   "cell_type": "code",
   "execution_count": null,
   "metadata": {},
   "outputs": [],
   "source": [
    "PopulationMatrix = EcoMod.ChangeConfinementPolicy(EcoMod,PopulationMatrix,-2, 1)\n",
    "print(EcoMod.ComputeOccupation(EcoMod,PopulationMatrix))"
   ]
  },
  {
   "cell_type": "markdown",
   "metadata": {},
   "source": [
    "Then opening back all retails (economic sector number 19):"
   ]
  },
  {
   "cell_type": "code",
   "execution_count": null,
   "metadata": {},
   "outputs": [],
   "source": [
    "PopulationMatrix = EcoMod.ChangeConfinementPolicy(EcoMod,PopulationMatrix,19, 1)\n",
    "print(EcoMod.ComputeOccupation(EcoMod,PopulationMatrix))"
   ]
  },
  {
   "cell_type": "markdown",
   "metadata": {},
   "source": [
    "State of development of the Economic Model:\n",
    "\n",
    "The model is still very basic, with only one objective function (ComputeOccupation). However, new objective functions taking into account added value of work can already be written as the information is readily available in the LoadInputs function.\n",
    "\n",
    "Input-Output tables are available in the DATA folder, but not loaded in the model. \n",
    "\n",
    "No modification to the SEIRS model has been made to couple it with the economic model. However, as of today (April 27th), the link can be made by adding two attributes to each individual in the SEIRS: Occupation and Status. \n"
   ]
  },
  {
   "cell_type": "code",
   "execution_count": null,
   "metadata": {},
   "outputs": [],
   "source": []
  }
 ],
 "metadata": {
  "kernelspec": {
   "display_name": "Python 3",
   "language": "python",
   "name": "python3"
  },
  "language_info": {
   "codemirror_mode": {
    "name": "ipython",
    "version": 3
   },
   "file_extension": ".py",
   "mimetype": "text/x-python",
   "name": "python",
   "nbconvert_exporter": "python",
   "pygments_lexer": "ipython3",
   "version": "3.7.6"
  }
 },
 "nbformat": 4,
 "nbformat_minor": 4
}
