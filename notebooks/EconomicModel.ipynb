{
 "cells": [
  {
   "cell_type": "markdown",
   "metadata": {},
   "source": [
    "# Belgian economic model\n",
    "\n",
    "*Original code by Cyril Garneau. Modified by T.W. Alleman in consultation with the BIOMATH research unit headed by prof. Ingmar Nopens.*\n",
    "\n",
    "Copyright (c) 2020 by T.W. Alleman, BIOMATH, Ghent University. All Rights Reserved.\n",
    "\n",
    "The economic model uses the latest economic data from Belgium to estimate the impact of the pandemic. We gratefuly acknowledge professors Gert Peersman and Koen Schoors for the data and sharing their expert knowledge with us. In this implementation, it is used in conjunction with our age-layered extended SEIR model. The economic model will, at a later stage of development, also be used in conjuction with a network model."
   ]
  },
  {
   "cell_type": "code",
   "execution_count": 1,
   "metadata": {},
   "outputs": [],
   "source": [
    "import numpy as np\n",
    "import matplotlib.pyplot as plt\n",
    "import economic_model\n",
    "import models"
   ]
  },
  {
   "cell_type": "markdown",
   "metadata": {},
   "source": [
    "## Model initialisation\n",
    "\n",
    "To initiate the economic model we must first create a correct age-layered extended SEIR model using the `SEIRSAgeModel` object from the `models.py` script."
   ]
  },
  {
   "cell_type": "code",
   "execution_count": 2,
   "metadata": {},
   "outputs": [],
   "source": [
    "# Load interaction matrices\n",
    "Nc_home = np.loadtxt(\"../data/Interaction_matrices/Belgium/BELhome.txt\", dtype='f', delimiter='\\t')\n",
    "Nc_work = np.loadtxt(\"../data/Interaction_matrices/Belgium/BELwork.txt\", dtype='f', delimiter='\\t')\n",
    "Nc_schools = np.loadtxt(\"../data/Interaction_matrices/Belgium/BELschools.txt\", dtype='f', delimiter='\\t')\n",
    "Nc_others = np.loadtxt(\"../data/Interaction_matrices/Belgium/BELothers.txt\", dtype='f', delimiter='\\t')\n",
    "Nc_all = np.loadtxt(\"../data/Interaction_matrices/Belgium/BELall.txt\", dtype='f', delimiter='\\t')\n",
    "initN = np.loadtxt(\"../data/Interaction_matrices/Belgium/BELagedist.txt\", dtype='f', delimiter='\\t')"
   ]
  },
  {
   "cell_type": "code",
   "execution_count": 55,
   "metadata": {},
   "outputs": [],
   "source": [
    "epiModel = models.SEIRSAgeModel(initN   = initN,         #16x0 numpy array\n",
    "                                     beta    = 0.10, # probability of infection when encountering infected person\n",
    "                                     sigma   = 4.0, # latent period\n",
    "                                     omega   = 1.5, # pre-symptomatic infectious period\n",
    "                                     Nc = Nc_all, #must be a numpy array; average number of human-to-human interactions per day\n",
    "                                     a = 0.43, # probability of an asymptotic (supermild) infection\n",
    "                                     m = 1-0.43, # probability of a mild infection\n",
    "                                     h = 0.20, # probability of hospitalisation for a mild infection\n",
    "                                     c = 2/3, # probability of hospitalisation in cohort\n",
    "                                     mi = 1/6, # probability of hospitalisation in midcare\n",
    "                                     da = 6.5, # days of infection when asymptomatic (supermild)\n",
    "                                     dm = 6.5, # days of infection when mild\n",
    "                                     dc = 7,\n",
    "                                     dmi = 14,\n",
    "                                     dICU = 14,\n",
    "                                     dICUrec = 6,\n",
    "                                     dmirec = 6,\n",
    "                                     dhospital = 5, # days before reaching the hospital when heavy or critical\n",
    "                                     m0 = 0.49, # mortality in ICU\n",
    "                                     maxICU = 2000,\n",
    "                                     totalTests = 0,\n",
    "                                     psi_FP = 0, # probability of a false positive\n",
    "                                     psi_PP = 1, # probability of a correct test\n",
    "                                     dq = 14, # days in quarantaine                          \n",
    "                                     initE = np.ones(16), #must be a numpy array\n",
    "                                     initI = np.zeros(16),\n",
    "                                     initA = np.zeros(16), \n",
    "                                     initM = np.zeros(16),\n",
    "                                     initC = np.zeros(16),\n",
    "                                     initCmirec = np.zeros(16),\n",
    "                                     initCicurec = np.zeros(16),\n",
    "                                     initMi = np.zeros(16),\n",
    "                                     initICU = np.zeros(16),\n",
    "                                     initR = np.zeros(16),\n",
    "                                     initD = np.zeros(16),\n",
    "                                     initSQ = np.zeros(16),\n",
    "                                     initEQ = np.zeros(16),\n",
    "                                     initIQ = np.zeros(16),\n",
    "                                     initAQ = np.zeros(16),\n",
    "                                     initMQ = np.zeros(16),\n",
    "                                     initRQ = np.zeros(16),\n",
    "                                     monteCarlo = False,\n",
    "                                     n_samples = 100,\n",
    "                            )"
   ]
  },
  {
   "cell_type": "markdown",
   "metadata": {},
   "source": [
    "We can now initiate our economic model. The initialisation function requires as its sole input the epidemological model object. The 16x1 `initN` numpy array, which contains the total number of individuals in 5 year age bins, is used to compute the population of students (ages 20 or below), retired people (ages 65 or above), working people (ages 20-65) and the total population. Next, the economic model loads two sets of economic data from the following spreadsheets,\n",
    "1. The Sectoral Data (`Sectoral_data.xlsx`) contains the value added and the employment by each economic sector of Belgium.\n",
    "2. The `Staff distribution by sector.xlsx` is recent data (recieved on April 25th) covering 70% of Belgian workforce that provide the breakdown of people working from home, from their usual workplace, a mix of both or are temporarily unemployed or absent. This data is taken as the maximal impact from confinment measures.\n",
    "\n",
    "Three dictionaries, assigned to the `self` attribute of the economic model, are used to hold these data,\n",
    "\n",
    "```python\n",
    "Inputs = 'Industry breakdown'      # Description of industry classes\n",
    "         'Value Added'             # Economic value added by Belgian workers (per year)\n",
    "         'Employment'              # Number of employees per industry\n",
    "         'Value Added per Employe' # Value added per employee (per year)\n",
    "         'Employment fraction'     # Ratio of employees in each industry with respect to total number of workers.\n",
    "\n",
    "ReferenceNumbers = 'Population'         # Full population of Belgium\n",
    "                   'Student population' # Population of \"students\", i.e. Belgians below 20.\n",
    "                   'Retired population' # Population of \"retired\", i.e. Belgians above 65.\n",
    "                   'Working population' # Population of \"working\" Belgian without pandemic.\n",
    "                   'Non working population' # Population of \"non working Belgians\"\n",
    "\n",
    "Adaptation = 'Work at home'             # Employees working from home\n",
    "             'Mix home - office'        # Employees using a mix of work from home and at the workplace\n",
    "             'Work at work'             # Employees working from their workplace\n",
    "             'Temporary Unemployed'     # Employees temporarily unemployed\n",
    "             'Absent'                   # Employees absent from work\n",
    "             'Date of Survey'           # Date of the reception of the survey`\n",
    "```"
   ]
  },
  {
   "cell_type": "code",
   "execution_count": 38,
   "metadata": {},
   "outputs": [],
   "source": [
    "ecoModel = economic_model.EconomicModel(epiModel)"
   ]
  },
  {
   "cell_type": "markdown",
   "metadata": {},
   "source": [
    "These informations are stored in python dictionnary and can be accessed from the model as below,"
   ]
  },
  {
   "cell_type": "code",
   "execution_count": 39,
   "metadata": {},
   "outputs": [
    {
     "name": "stdout",
     "output_type": "stream",
     "text": [
      "The stored population of Belgium is 11539326 inhabitants\n"
     ]
    }
   ],
   "source": [
    "print('The stored population of Belgium is ' + str(int(ecoModel.ReferenceNumbers['Population'])) + ' inhabitants')"
   ]
  },
  {
   "cell_type": "markdown",
   "metadata": {},
   "source": [
    "## Run a simple simulation of the epidemological model"
   ]
  },
  {
   "cell_type": "code",
   "execution_count": 56,
   "metadata": {},
   "outputs": [
    {
     "data": {
      "image/png": "[encoded data removed]",
      "text/plain": [
       "<Figure size 432x288 with 1 Axes>"
      ]
     },
     "metadata": {
      "needs_background": "light"
     },
     "output_type": "display_data"
    },
    {
     "data": {
      "image/png": "[encoded data removed]",
      "text/plain": [
       "<Figure size 432x288 with 1 Axes>"
      ]
     },
     "metadata": {
      "needs_background": "light"
     },
     "output_type": "display_data"
    }
   ],
   "source": [
    "# Create checkpoints dictionary\n",
    "chk = {'t':       [37], \n",
    "       'Nc':      [Nc_home]\n",
    "      }\n",
    "# Run simulation\n",
    "y = epiModel.sim(200,checkpoints=chk)\n",
    "# Visualise\n",
    "epiModel.plotPopulationStatus()\n",
    "epiModel.plotInfected(mild=True)"
   ]
  },
  {
   "cell_type": "code",
   "execution_count": 57,
   "metadata": {},
   "outputs": [
    {
     "data": {
      "text/plain": [
       "[<matplotlib.lines.Line2D at 0x14ba306c9f28>]"
      ]
     },
     "execution_count": 57,
     "metadata": {},
     "output_type": "execute_result"
    },
    {
     "data": {
      "image/png": "[encoded data removed]",
      "text/plain": [
       "<Figure size 432x288 with 1 Axes>"
      ]
     },
     "metadata": {
      "needs_background": "light"
     },
     "output_type": "display_data"
    }
   ],
   "source": [
    "out=ecoModel.runMetaPopulationSimulation(T=200,checkpoints=chk)\n",
    "VA,VA_total = ecoModel.calcAddedValue(out,confinement=True)\n",
    "plt.plot(np.linspace(0,200,201),np.transpose(VA_total))"
   ]
  },
  {
   "cell_type": "code",
   "execution_count": null,
   "metadata": {},
   "outputs": [],
   "source": [
    "addedValue_sector_conf,addedValue_total_conf = ecoModel.calcAddedValue(epiModel,confinement=True)\n",
    "addedValue_sector_noConf,addedValue_total_noConf = ecoModel.calcAddedValue(epiModel,confinement=False)\n",
    "\n",
    "plt.figure(1)\n",
    "plt.plot(epiModel.tseries,addedValue_total_noConf-addedValue_total_conf)\n",
    "plt.plot(epiModel.tseries,addedValue_total_noConf)\n",
    "plt.plot(epiModel.tseries,addedValue_total_conf)\n",
    "plt.legend(('difference','without confinement','with confinement'))\n",
    "\n",
    "plt.figure(2)\n",
    "plt.plot(epiModel.tseries,addedValue_total_conf)\n",
    "plt.legend(('difference'))"
   ]
  },
  {
   "cell_type": "markdown",
   "metadata": {},
   "source": [
    "## Building an economical model\n",
    "The economic model assesses a large network of individuals from the SEIRS Network Model. Once each individual is assigned a health status, they can receive an economical status which is the combination of an `Occupation` and a `State`.\n",
    "This status could be integrated to SEIRS Network but, at the moment, it is simply generated in a stand-alone 2D matrix. "
   ]
  },
  {
   "cell_type": "markdown",
   "metadata": {},
   "source": [
    "### Addind an occupation to a network of individuals\n",
    "The network of individuals can be assigned to an occupation and a state.\n",
    "The occupation will be any of the following, based on demographic data and 2018 employment census:\n",
    "* [-2] Student (0-20 yo)\n",
    "* [-1] Retired (70+ yo)\n",
    "* [0] Non-working (active population that do not work or seek employment)\n",
    "* [1 - 37] Working or work seeker in one of 37 economical sectors\n",
    "\n",
    "The state of non-working population (students, retired or non-working) can be:\n",
    "* [-1] Confined\n",
    "* [0] Unconfined\n",
    "\n",
    "And the state of working population can be:\n",
    "* [1] Working from home\n",
    "* [2] Mix of working from home and at work (office/factory/etc.)\n",
    "* [3] Working at work (office/factory/etc.)\n",
    "* [4] Temporarily unemployed\n",
    "* [5] Absent\n",
    "\n",
    "The function `AssignOccupation` returns a Status Matrix that assigns both an occupation and a state of work randomly, according to current data. Each line correspond to one individual. Column zero holds the `Occupation` and column 1 holds the `State`."
   ]
  },
  {
   "cell_type": "code",
   "execution_count": null,
   "metadata": {},
   "outputs": [],
   "source": [
    "PopulationMatrix = ecoModel.AssignOccupation(ecoModel,N = 2000, ConfinementPolicy = True)\n",
    "print(PopulationMatrix[1:10,:])"
   ]
  },
  {
   "cell_type": "markdown",
   "metadata": {},
   "source": [
    "Occupation information about the population can be extracted with the function `ComputeOccupation`. The number of confined, unconfined, working and unemployed individuals are returned. "
   ]
  },
  {
   "cell_type": "code",
   "execution_count": null,
   "metadata": {},
   "outputs": [],
   "source": [
    "print(EcoMod.ComputeOccupation(EcoMod,PopulationMatrix))"
   ]
  },
  {
   "cell_type": "markdown",
   "metadata": {},
   "source": [
    "## Added Value\n",
    "The `Added Value` gives an indication of the state of the economy. Industries need different amount of work to generate value, which is reflected in the added value. \n",
    "The function `ComputeValueAdded` computes the value added by the workers of a network by multiplying the `Value added by a Belgian worker` by the number of active workers in that specific industry. At the moment, no distinction is made wheter the work is performed at home or at the usual workplace."
   ]
  },
  {
   "cell_type": "code",
   "execution_count": null,
   "metadata": {},
   "outputs": [],
   "source": [
    "print(\"% 10.2f euros\"% (EcoMod.ComputeValueAdded(EcoMod,PopulationMatrix))) "
   ]
  },
  {
   "cell_type": "markdown",
   "metadata": {},
   "source": [
    "## Altering the confinement policy\n",
    "In order to assess different scenarios, it is possible to alter restrictions on selected sectors of the population with the function `ChangeConfinementPolicy`. \n",
    "A call to `ChangeConfinementPolicy allows to set non-working individuals (students, retired, non-workers) to Confined or Unconfined status or to set a specific economy sector to a new confinement policy, between [0 - 1]. A policy of 0 maximizes the work from home and unemployment while a policy of 1 sends everyone to work (office/factory/etc.). Any number in between offers a linear tradeof.\n",
    "\n",
    "For example, lifting the confinement on children and students can be done as follow:"
   ]
  },
  {
   "cell_type": "code",
   "execution_count": null,
   "metadata": {},
   "outputs": [],
   "source": [
    "PopulationMatrix = EcoMod.ChangeConfinementPolicy(EcoMod,PopulationMatrix,-2, 1)\n",
    "print(EcoMod.ComputeOccupation(EcoMod,PopulationMatrix))"
   ]
  },
  {
   "cell_type": "markdown",
   "metadata": {},
   "source": [
    "Then opening back all retails (economic sector number 19):"
   ]
  },
  {
   "cell_type": "code",
   "execution_count": null,
   "metadata": {},
   "outputs": [],
   "source": [
    "PopulationMatrix = EcoMod.ChangeConfinementPolicy(EcoMod,PopulationMatrix,19, 1)\n",
    "print(EcoMod.ComputeOccupation(EcoMod,PopulationMatrix))\n",
    "print(\"% 10.2f euros\"% (EcoMod.ComputeValueAdded(EcoMod,PopulationMatrix))) "
   ]
  },
  {
   "cell_type": "markdown",
   "metadata": {},
   "source": [
    "Therefore, by reopening the shops, the daily added value of the network increased by about 10% (numbers will differ due to the random initialization of the network)."
   ]
  },
  {
   "cell_type": "markdown",
   "metadata": {},
   "source": [
    "## State of development of the Economic Model\n",
    "\n",
    "The model is still very basic, with only two objective functions (`ComputeOccupation` and `ComputeValueadded`).\n",
    "\n",
    "Input-Output tables are available in the DATA folder, but not loaded in the model. \n",
    "\n",
    "No modification to the SEIRS model has been made to couple it with the economic model. However, as of today (April 27th), the link can be made by adding two attributes to each individual in the SEIRS: Occupation and Status. \n"
   ]
  }
 ],
 "metadata": {
  "kernelspec": {
   "display_name": "Python 3",
   "language": "python",
   "name": "python3"
  },
  "language_info": {
   "codemirror_mode": {
    "name": "ipython",
    "version": 3
   },
   "file_extension": ".py",
   "mimetype": "text/x-python",
   "name": "python",
   "nbconvert_exporter": "python",
   "pygments_lexer": "ipython3",
   "version": "3.7.1"
  }
 },
 "nbformat": 4,
 "nbformat_minor": 4
}
