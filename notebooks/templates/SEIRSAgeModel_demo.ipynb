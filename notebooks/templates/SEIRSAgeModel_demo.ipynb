{
 "cells": [
  {
   "cell_type": "markdown",
   "metadata": {
    "toc": "true"
   },
   "source": [
    "# Table of Contents\n",
    " <p><div class=\"lev1 toc-item\"><a href=\"#Covid-19:-From-model-prediction-to-model-predictive-control\" data-toc-modified-id=\"Covid-19:-From-model-prediction-to-model-predictive-control-1\"><span class=\"toc-item-num\">1&nbsp;&nbsp;</span>Covid-19: From model prediction to model predictive control</a></div><div class=\"lev2 toc-item\"><a href=\"#A-demo-of-the-deterministic-modeling-framework\" data-toc-modified-id=\"A-demo-of-the-deterministic-modeling-framework-1.1\"><span class=\"toc-item-num\">1.1&nbsp;&nbsp;</span>A demo of the deterministic modeling framework</a></div><div class=\"lev2 toc-item\"><a href=\"#Introduction\" data-toc-modified-id=\"Introduction-1.2\"><span class=\"toc-item-num\">1.2&nbsp;&nbsp;</span>Introduction</a></div><div class=\"lev3 toc-item\"><a href=\"#Model-dynamics\" data-toc-modified-id=\"Model-dynamics-1.2.1\"><span class=\"toc-item-num\">1.2.1&nbsp;&nbsp;</span>Model dynamics</a></div><div class=\"lev3 toc-item\"><a href=\"#Deterministic-vs.-Stochastic-framework\" data-toc-modified-id=\"Deterministic-vs.-Stochastic-framework-1.2.2\"><span class=\"toc-item-num\">1.2.2&nbsp;&nbsp;</span>Deterministic vs. Stochastic framework</a></div><div class=\"lev3 toc-item\"><a href=\"#Model-parameters\" data-toc-modified-id=\"Model-parameters-1.2.3\"><span class=\"toc-item-num\">1.2.3&nbsp;&nbsp;</span>Model parameters</a></div><div class=\"lev3 toc-item\"><a href=\"#Social-interaction-data\" data-toc-modified-id=\"Social-interaction-data-1.2.4\"><span class=\"toc-item-num\">1.2.4&nbsp;&nbsp;</span>Social interaction data</a></div><div class=\"lev2 toc-item\"><a href=\"#Performing-simulations\" data-toc-modified-id=\"Performing-simulations-1.3\"><span class=\"toc-item-num\">1.3&nbsp;&nbsp;</span>Performing simulations</a></div><div class=\"lev3 toc-item\"><a href=\"#Without-age-structuring\" data-toc-modified-id=\"Without-age-structuring-1.3.1\"><span class=\"toc-item-num\">1.3.1&nbsp;&nbsp;</span>Without age-structuring</a></div><div class=\"lev3 toc-item\"><a href=\"#Meta-population-simulations\" data-toc-modified-id=\"Meta-population-simulations-1.3.2\"><span class=\"toc-item-num\">1.3.2&nbsp;&nbsp;</span>Meta-population simulations</a></div><div class=\"lev2 toc-item\"><a href=\"#Calibrating-$\\beta$--in-a-business-as-usual-scenario-($N_c-=-11.2$)\" data-toc-modified-id=\"Calibrating-$\\beta$--in-a-business-as-usual-scenario-($N_c-=-11.2$)-1.4\"><span class=\"toc-item-num\">1.4&nbsp;&nbsp;</span>Calibrating <span class=\"MathJax_Preview\" style=\"color: inherit;\"></span><span class=\"MathJax\" id=\"MathJax-Element-46-Frame\" tabindex=\"0\" style=\"position: relative;\" data-mathml=\"<math xmlns=&quot;http://www.w3.org/1998/Math/MathML&quot;><mi>&amp;#x03B2;</mi></math>\" role=\"presentation\"><nobr aria-hidden=\"true\"><span class=\"math\" id=\"MathJax-Span-2805\" style=\"width: 0.646em; display: inline-block;\"><span style=\"display: inline-block; position: relative; width: 0.53em; height: 0px; font-size: 120%;\"><span style=\"position: absolute; clip: rect(1.605em, 1000.53em, 2.683em, -1000em); top: -2.386em; left: 0em;\"><span class=\"mrow\" id=\"MathJax-Span-2806\"><span class=\"mi\" id=\"MathJax-Span-2807\" style=\"font-family: STIXMathJax_Normal; font-style: italic;\">𝛽<span style=\"display: inline-block; overflow: hidden; height: 1px; width: 0.025em;\"></span></span></span><span style=\"display: inline-block; width: 0px; height: 2.386em;\"></span></span></span><span style=\"display: inline-block; overflow: hidden; vertical-align: -0.265em; border-left: 0px solid; width: 0px; height: 1.112em;\"></span></span></nobr><span class=\"MJX_Assistive_MathML\" role=\"presentation\"><math xmlns=\"http://www.w3.org/1998/Math/MathML\"><mi>β</mi></math></span></span><script type=\"math/tex\" id=\"MathJax-Element-46\">\\beta</script>  in a <em>business-as-usual</em> scenario (<span class=\"MathJax_Preview\" style=\"color: inherit;\"></span><span class=\"MathJax\" id=\"MathJax-Element-47-Frame\" tabindex=\"0\" style=\"position: relative;\" data-mathml=\"<math xmlns=&quot;http://www.w3.org/1998/Math/MathML&quot;><msub><mi>N</mi><mi>c</mi></msub><mo>=</mo><mn>11.2</mn></math>\" role=\"presentation\"><nobr aria-hidden=\"true\"><span class=\"math\" id=\"MathJax-Span-2808\" style=\"width: 5.153em; display: inline-block;\"><span style=\"display: inline-block; position: relative; width: 4.28em; height: 0px; font-size: 120%;\"><span style=\"position: absolute; clip: rect(1.748em, 1004.25em, 2.809em, -1000em); top: -2.538em; left: 0em;\"><span class=\"mrow\" id=\"MathJax-Span-2809\"><span class=\"msubsup\" id=\"MathJax-Span-2810\"><span style=\"display: inline-block; position: relative; width: 1.219em; height: 0px;\"><span style=\"position: absolute; clip: rect(3.249em, 1000.9em, 4.129em, -1000em); top: -4.015em; left: 0em;\"><span class=\"mi\" id=\"MathJax-Span-2811\" style=\"font-family: STIXMathJax_Normal; font-style: italic;\">𝑁<span style=\"display: inline-block; overflow: hidden; height: 1px; width: 0.05em;\"></span></span><span style=\"display: inline-block; width: 0px; height: 4.015em;\"></span></span><span style=\"position: absolute; top: -3.865em; left: 0.851em;\"><span class=\"mi\" id=\"MathJax-Span-2812\" style=\"font-size: 70.7%; font-family: STIXMathJax_Normal; font-style: italic;\">𝑐</span><span style=\"display: inline-block; width: 0px; height: 4.015em;\"></span></span></span></span><span class=\"mo\" id=\"MathJax-Span-2813\" style=\"font-family: STIXMathJax_Main; padding-left: 0.313em;\">=</span><span class=\"mn\" id=\"MathJax-Span-2814\" style=\"font-family: STIXMathJax_Main; padding-left: 0.313em;\">11.2</span></span><span style=\"display: inline-block; width: 0px; height: 2.538em;\"></span></span></span><span style=\"display: inline-block; overflow: hidden; vertical-align: -0.235em; border-left: 0px solid; width: 0px; height: 1.091em;\"></span></span></nobr><span class=\"MJX_Assistive_MathML\" role=\"presentation\"><math xmlns=\"http://www.w3.org/1998/Math/MathML\"><msub><mi>N</mi><mi>c</mi></msub><mo>=</mo><mn>11.2</mn></math></span></span><script type=\"math/tex\" id=\"MathJax-Element-47\">N_c = 11.2</script>)</a></div><div class=\"lev3 toc-item\"><a href=\"#Performing-a-least-squares-fit\" data-toc-modified-id=\"Performing-a-least-squares-fit-1.4.1\"><span class=\"toc-item-num\">1.4.1&nbsp;&nbsp;</span>Performing a least-squares fit</a></div><div class=\"lev3 toc-item\"><a href=\"#Visualising-the-fit\" data-toc-modified-id=\"Visualising-the-fit-1.4.2\"><span class=\"toc-item-num\">1.4.2&nbsp;&nbsp;</span>Visualising the fit</a></div><div class=\"lev2 toc-item\"><a href=\"#Model-Predictive-control-(MPC)\" data-toc-modified-id=\"Model-Predictive-control-(MPC)-1.5\"><span class=\"toc-item-num\">1.5&nbsp;&nbsp;</span>Model Predictive control (MPC)</a></div><div class=\"lev3 toc-item\"><a href=\"#Optimising-government-policy\" data-toc-modified-id=\"Optimising-government-policy-1.5.1\"><span class=\"toc-item-num\">1.5.1&nbsp;&nbsp;</span>Optimising government policy</a></div><div class=\"lev3 toc-item\"><a href=\"#Visualising-the-effect-of-government-policy\" data-toc-modified-id=\"Visualising-the-effect-of-government-policy-1.5.2\"><span class=\"toc-item-num\">1.5.2&nbsp;&nbsp;</span>Visualising the effect of government policy</a></div><div class=\"lev2 toc-item\"><a href=\"#Specific-methods\" data-toc-modified-id=\"Specific-methods-1.6\"><span class=\"toc-item-num\">1.6&nbsp;&nbsp;</span>Specific methods</a></div><div class=\"lev3 toc-item\"><a href=\"#realTimeScenario\" data-toc-modified-id=\"realTimeScenario-1.6.1\"><span class=\"toc-item-num\">1.6.1&nbsp;&nbsp;</span><em>realTimeScenario</em></a></div><div class=\"lev3 toc-item\"><a href=\"#realTimeMPC\" data-toc-modified-id=\"realTimeMPC-1.6.2\"><span class=\"toc-item-num\">1.6.2&nbsp;&nbsp;</span><em>realTimeMPC</em></a></div>"
   ]
  },
  {
   "cell_type": "markdown",
   "metadata": {},
   "source": [
    "# Covid-19: From model prediction to model predictive control\n",
    "\n",
    "## A demo of the deterministic modeling framework\n",
    "\n",
    "*Original code by Ryan S. McGee. Modified by T.W. Alleman in consultation with the BIOMATH research unit headed by prof. Ingmar Nopens.*\n",
    "\n",
    "Copyright (c) 2020 by T.W. Alleman, BIOMATH, Ghent University. All Rights Reserved.\n",
    "\n",
    "Our code implements a SEIRS infectious disease dynamics models with extensions to model the effect quarantining detected cases. Using the concept of 'classes' in Python 3, the code was integrated with our previous work and allows to quickly perform Monte Carlo simulations, calibrate model parameters and calculate an *optimal* government policies using a model predictive controller (MPC). A white paper and souce code of our previous work can be found on the Biomath website. \n",
    "\n",
    "https://biomath.ugent.be/covid-19-outbreak-modelling-and-control"
   ]
  },
  {
   "cell_type": "code",
   "execution_count": null,
   "metadata": {
    "ExecuteTime": {
     "end_time": "2020-05-01T09:38:06.888712Z",
     "start_time": "2020-05-01T09:38:06.875510Z"
    }
   },
   "outputs": [],
   "source": [
    "import numpy as np\n",
    "import matplotlib.pyplot as plt\n",
    "from IPython.display import Image\n",
    "from ipywidgets import interact,fixed,FloatSlider,IntSlider,ToggleButtons\n",
    "import pandas as pd\n",
    "import datetime\n",
    "import scipy\n",
    "from scipy.integrate import odeint\n",
    "import matplotlib.dates as mdates\n",
    "import matplotlib\n",
    "import scipy.stats as st\n",
    "import networkx # to install networkx in your environment: conda install networkx"
   ]
  },
  {
   "cell_type": "markdown",
   "metadata": {},
   "source": [
    "Load the covid 19 custom development code"
   ]
  },
  {
   "cell_type": "code",
   "execution_count": null,
   "metadata": {},
   "outputs": [],
   "source": [
    "from covid19model.models import models"
   ]
  },
  {
   "cell_type": "code",
   "execution_count": null,
   "metadata": {},
   "outputs": [],
   "source": [
    "# OPTIONAL: Load the \"autoreload\" extension so that package code can change\n",
    "%load_ext autoreload\n",
    "# OPTIONAL: always reload modules so that as you change code in src, it gets loaded\n",
    "%autoreload 2"
   ]
  },
  {
   "cell_type": "markdown",
   "metadata": {},
   "source": [
    "## Introduction"
   ]
  },
  {
   "cell_type": "markdown",
   "metadata": {},
   "source": [
    "### Model dynamics\n"
   ]
  },
  {
   "cell_type": "markdown",
   "metadata": {
    "ExecuteTime": {
     "end_time": "2020-05-01T07:27:03.986102Z",
     "start_time": "2020-05-01T07:27:03.969025Z"
    }
   },
   "source": [
    "#### General\n",
    "\n",
    "The SEIR model was first proposed in 1929 by two Scottish scientists. It is a compartmental model that subdivides the human population in four types of people : 1) healthy individuals susceptible to the infectious disease, 2) exposed individuals in a latent phase (partially the incubation period), 3) infectious individuals able to transmit the disease and 4) individuals removed from the population either through immunisation or death. Despite being a simple and idealised reality, the SEIR model is used extensively to predict the outbreak of infectious diseases and this was no different during the outbreak in China earlier this year. In this work, we extended the SEIR model to incorporate more expert knowledge on SARS-Cov-2 into the model. The infectious pool is split into four parts. The first is a period of pre-symptomatic infectiousness. Several studies have shown that pre-symptomatic transmission is a dominant transmission mechanism of SARS-Cov-2. After the period of pre-symptomatic transmission, three possible infectious outcomes are modelled. 1) asymptomatic outcome, for patients who show no symptoms at all 2) mild outcome, for patients with mild symptoms, these patients recover at home 3) a mild infection can degress to the point where a hospitalision is needed. The pool of *recovered* individuals from the classical SEIR model is split into an recovered and dead pool. People from the susceptible, exposed, pre-symptomatic infectious, asymptomatic infectious, mild infectious and recovered pool can be quarantined after having tested positive for Covid-19. Note that for individuals in the susceptible and recovered pools, this corresponds to a *false positive* test. The dynamics of our extended SEIR model are presented in the flowchart below. We make the following assumptions with regard to the general SEIRS dynamics,\n",
    "\n",
    "<img src=\"../../docs/_static/figs/flowchartAll.jpg\" alt=\"drawing\" width=\"700\"/>\n",
    "\n",
    "We make the following assumptions with regard to the SEIRS dynamics,\n",
    "\n",
    "1. There is no connection between the severity of the disease and the infectiousness of an individual. Only the duration of infectiousness can differ.\n",
    "2. All patients experience a brief pre-symptomatic, infectious period.\n",
    "3. All deaths come from intensive care units in hospitals, meaning no patients die outside a hospital. Of the 7703 diseased (01/05/2020), 46\\% died in a hospital while 53\\% died in an elderly home. All hospital deaths are confirmed Covid-19 cases while only 16\\% of elderly home deaths were confirmed. When taking the elderly homes out of the model scope, the assumption that deaths only arise in hospitals is true due to the fact that only 0.3\\% died at home and 0.4\\% died someplace else. Asymptomatic and mild cases automatically lead to recovery and in no case to death (https://www.info-coronavirus.be/nl/news/trends-laatste-dagen-zetten-zich-door/).\n",
    "4. We implement no testing and quarantining in the hospital. Hospitalised persons are assumed to be incapable of infecting susceptibles, so the implementation of a quarantine would not change the dynamics but slow down calculations.\n",
    "5. Recovered patients are assumed to be immune, seasonality is deemed out of scope of this work.\n",
    "\n",
    "#### Hospital subystem (preliminary)\n",
    "\n",
    "The hospital subsystem is a simplification of actual hospital dynamics. The dynamics and estimated parameters were  obtained by interviewing Ghent University Hospital staff and presenting the resulting meeting notes to the remaining three Ghent hospitals for verification.\n",
    "\n",
    "At the time of writing (30/04/2020) every admitted patient is tested for Covid-19. Roughly 10% of all Covid-19 patients at UZ Ghent originally came to the hospital for some other medical condition. The remaining 90% of all Covid-19 arrives in the emergency room or comes from hospitals in heavily struck regions. The fraction of people the hospital when getting infected with Covid-19 are reported to authorities as ‘new hospitalisations’. There are three hospital wards for Covid-19 patients: 1) Cohort, which should be seen like a regular hospital ward with Covid-19 patients. Patients are not monitored permanently in this ward. 2) Midcare, a ward where more severe cases are monitored more cosely than in Cohort. Midcare is more closely related to ICU than to Cohort and is usually lumped with the number of ICU patients when reporting to the officials. 3) Intensive care, for patients with the most severe symptoms. Intensive care needs can include the use of a ventilator to supply the patient with oxygen. It was noted that the fraction Cohort vs. Midcare and ICU is roughly 50-50%.\n",
    "\n",
    "<img src=\"../../docs/_static/figs/hospitalRealLife.jpg\" alt=\"drawing\" width=\"400\"/>\n",
    "\n",
    "Generally, patients can switch between any of the wards depending on how the disease progresses. However, some dominant *flows* exist. Usually, it is apparent upon a patients arrival to which ward he or she will be assigned. On average patients who don’t degress stay in Cohort for 6 days, with values spread between 3 and 8 days. The average ICU stay is 14 days when a patient doesn’t need ventilation. If the patient needs ventilation the stay is slightly longer. After being in ICU, patients return to Cohort for an another 6 to 7 days of recovery. Based on these dominant *flows*, the hospital subsystem was simplified by making the following assumptions,\n",
    "1. Assume people arriving at the hospital are instantly distributed between Cohort, Midcare or ICU.\n",
    "2. Merge ventilator and non-ventilator ICU.\n",
    "3. Assume deaths can only arise in ICU.\n",
    "4. Assume all patients in midcare and ICU pass via Cohort on their way to recovery.\n",
    "5. Assume that the 10% of the patients that come from hospital actually come from the population."
   ]
  },
  {
   "cell_type": "markdown",
   "metadata": {},
   "source": [
    "### Deterministic vs. Stochastic framework"
   ]
  },
  {
   "cell_type": "markdown",
   "metadata": {},
   "source": [
    "The extended SEIR model is implemented using two frameworks: a deterministic and a stochastic (network based) framework. **This Jupyter Notebooks is a demo of the deterministic model,** a demo of the stochastic network simulator is available in *SEIRSNetworkModel_Demo*. A deterministic implementation of the extended SEIRS model captures important features of infectious disease dynamics, but it assumes uniform mixing of the population (i.e. every individual in the population is equally likely to interact with every other individual). The deterministic approach results in a set of N ordinary differential equations, one for every of the N ’population pools’ considered. The main advantage of a deterministic model is that a low amount of computational resources are required while still maintaining an acceptable accuracy. The deterministic framework allows to rapidly explore scenarios and perform optimisations which require thousands of function evaluations. \n",
    "\n",
    "However, it is often important to consider the structure of contact networks when studying disease transmission and the effect of interventions such as social distancing and contact tracing. The main drawback of the deterministic approach is the inability to simulate contact tracing, which is one of the most promising measures against the spread of SARS-Cov-2. For this reason, the SEIRS dynamics depicted in on the above flowchart can be simulated on a Barabasi-Albert network. This advantages include a more detailed analysis of the relationship between social network structure and effective transmission rates, including the effect of network-based interventions such as social distancing, quarantining, and contact tracing. The added value comes at a high price in terms of computational resources. It is not possible to perform optimisations of parameters in the stochastic network model on a personal computer. Instead, high performance computing infrastructure is needed. The second drawback is the need for more data and/or assumptions on social interactions and how government measures affect these social interactions."
   ]
  },
  {
   "cell_type": "markdown",
   "metadata": {},
   "source": [
    "### Deterministic equations"
   ]
  },
  {
   "cell_type": "markdown",
   "metadata": {},
   "source": [
    "The dynamics of the deterministic system are mathematically formulated as the rate of change of each population pool shown in the above flowchart. This results in the following system of ordinary differential equations (the parameters are explained in the next section):\n",
    "\n",
    "\\begin{eqnarray}\n",
    "\\dot{S} &=& - \\beta N_c \\cdot S \\cdot \\Big( \\frac{I+A}{N} \\Big) - \\theta_{\\text{S}} \\psi_{\\text{FP}} \\cdot S + SQ/d_{\\text{q,FP}} + \\zeta \\cdot R,\\\\\n",
    "\\dot{E} &=&  \\beta \\cdot N_c \\cdot S \\Big( \\frac{I+A}{N} \\Big) - (1/\\sigma) \\cdot E - \\theta_{\\text{E}} \\psi_{\\text{PP}} \\cdot E,\\\\\n",
    "\\dot{I} &=& (1/\\sigma) \\cdot E - (1/\\omega) \\cdot I - \\theta_I \\psi_{PP} \\cdot I,\\\\\n",
    "\\dot{A} &=& (\\text{a}/\\omega) \\cdot I - A/d_{\\text{a}} - \\theta_{\\text{A}} \\psi_{\\text{PP}} \\cdot A,\\\\ \n",
    "\\dot{M} &=&  (\\text{m} / \\omega ) \\cdot I - M \\cdot ((1-h)/d_m) - M \\cdot h/d_{\\text{hospital}} - \\theta_{\\text{M}} \\psi_{\\text{PP}} \\cdot M,\\\\\n",
    "\\dot{C} &=& c \\cdot (M+MQ) \\cdot (h/d_{\\text{hospital}}) - c \\cdot(1/d_c)\\cdot C,\\\\\n",
    "\\dot{C}_{\\text{mi,rec}} &=& Mi/d_{\\text{mi}} - C_{\\text{mi,rec}} \\cdot (1/d_{\\text{mi,rec}}),\\\\\n",
    "\\dot{C}_{\\text{ICU,rec}} &=& (1-m_0)/d_{\\text{ICU}} \\cdot \\text{ICU} - C_{\\text{ICU,rec}} \\cdot (1/d_{\\text{ICU,rec}}),\\\\\n",
    "C_{\\text{tot}} &=& C + C_{\\text{mi,rec}} + C_{\\text{ICU,rec}}, \\\\\n",
    "\\dot{\\text{Mi}} &=&  mi \\cdot (M+MQ) \\cdot (h/d_{\\text{hospital}}) - \\text{Mi} / d_{\\text{mi}}\\\\ \n",
    "\\dot{\\text{ICU}} &=& (1-c-mi) \\cdot (M+MQ) \\cdot (h/d_{\\text{hospital}}) - \\text{ICU}/d_{\\text{ICU}},\\\\\n",
    "H &=& C_{\\text{tot}} + \\text{Mi} + \\text{ICU},\\\\\n",
    "\\dot{D} &=& m_0 \\cdot \\text{ICU}/d_{\\text{ICU}},\\\\\n",
    "\\dot{R} &=&  A/d_a + M \\cdot ((1-h)/d_m) + (1/d_c) \\cdot c \\cdot M \\cdot (h/d_{\\text{hospital}}) \\\\ && + (M_i/d_{mi}) \\cdot (1/d_{\\tiny{\\text{mi,recovery}}})+ ((1-m_0)/ d_{\\text{ICU}}) \\cdot (1/d_{\\text{\\tiny{ICU,recovery}}}) \\cdot ICU  \\\\\n",
    "&& + AQ/d_a + MQ \\cdot ((1-h)/d_m)+ RQ/d_{\\text{q,FP}} - \\zeta \\cdot R, \\\\\n",
    "\\dot{SQ} &=& \\theta_{\\text{S}} \\psi_{\\text{FP}} \\cdot S - (1/d_{\\text{q,FP}}) \\cdot SQ, \\\\\n",
    "\\dot{EQ} &=& \\theta_{\\text{E}} \\psi_{\\text{PP}} \\cdot E - (1/\\sigma) \\cdot EQ, \\\\\n",
    "\\dot{IQ} &=& \\theta_{\\text{I}} \\psi_{\\text{PP}} \\cdot I + (1/\\sigma) \\cdot EQ - (1/\\omega) \\cdot IQ, \\\\\n",
    "\\dot{AQ} &=& \\theta_{\\text{A}} \\psi_{\\text{PP}} \\cdot A + (a/\\omega) \\cdot EQ - AQ/d_a, \\\\\n",
    "\\dot{MQ} &=& \\theta_{\\text{M}} \\psi_{\\text{PP}} \\cdot M + (m/\\omega) \\cdot EQ - MQ \\cdot ((1-h)/d_m) - MQ \\cdot h/d_{\\text{hospital}}, \\\\\n",
    "\\dot{RQ} &=& \\theta_{\\text{R}} \\psi_{\\text{FP}} - (1/d_{\\text{q,FP}}) \\cdot RQ,\n",
    "\\end{eqnarray}"
   ]
  },
  {
   "cell_type": "markdown",
   "metadata": {},
   "source": [
    "### Model parameters"
   ]
  },
  {
   "cell_type": "markdown",
   "metadata": {},
   "source": [
    "In the above equations, S stands for susceptible, E for exposed, A for asymptomatic, M for mild, H for hospitalised, C for cohort, Mi for midcare, ICU for intensive care unit, D for dead, R for recovered. The quarantined states are denoted with a Q suffix, for instance AQ stands for asymptomatic and quarantined. The states S, E, A, M and R can be quarantined. The disease dynamics when quarantined are identical to the non quarantined dynamics. For instance, EQ will evolve into AQ or MQ with the same probability as E evolves into A or M. Individuals from the MQ pool can end up in the hospital. N stands for the total population. The clinical parameters are: a, m: the chance of having an asymptomatic or mild infection. h: the fraction of mildly infected which require hospitalisation. c: fraction of the hospitalised which remain in Cohort, mi: fraction of hospitalised which end up in midcare. Based on reported cases in China and travel data, Li et al. (2020b) estimated that 86 % of coronavirus infections in the country were \"undocumented\" in the weeks before officials instituted stringent quarantines. This figure thus includes the asymptomatic cases and an unknown number of mildly symptomatic cases and is thus an overestimation of the asymptotic fraction. In Iceland, citizens were invited for testing regardless of symptoms. Of all people with positive test results, 43% were asymptomatic (Gudbjartsson et al., 2020). The actual number of asymptomatic infections might be even higher since it seemed that symptomatic persons were more likely to respond to the invitation (Sciensano, 2020). In this work it is assumed that 43 % of all infected cases are asymptomatic. This figure can later be corrected in light of large scale immunity testing in the Belgian population. Hence,\n",
    "\n",
    "$$ a = 0.43 .$$\n",
    "\n",
    "Wu and McGoogan (2020) estimated that the distribution between mild, severe and critical cases is equal to 81%, 15% and 4%. As a rule of thumb, one can assume that one third of all hospitalised patients ends up in an ICU. Based on interviews with Ghent University hospital staff, midcare is merged with ICU in the offical numbers. For now, it is assumed that the distribution between midcare and ICU is 50-50 %. The sum of both pools is one third of the hospitalisations. Since the average time a patient spends in midcare is equal to ICU, this corresponds to seeing midcare and ICU as 'ICU'."
   ]
  },
  {
   "cell_type": "markdown",
   "metadata": {},
   "source": [
    "$\\sigma$: length of the latent period. Assumed four days based on a modeling study by Davies et al. (2020) .\n",
    "\n",
    "$\\omega$: length of the pre-symptomatic infectious period, assumed 1.5 days (Davies et al. 2020). The sum of $\\omega$ and $\\sigma$ is the total incubation period, and is equal to 5.5 days. Several estimates of the incubation period have been published and range from 3.6 to 6.4 days, with the majority of estimates around 5 days (Park et. al 2020).\n",
    "\n",
    "$d_{a}$ , $d_{m}$ , $d_{h}$ : the duration of infection in case of a asymptomatic or mild infection. Assumed to be 6.5 days. Toghether with the length of the pre-symptomatic infectious period, this accounts to a total of 8 days of infectiousness. \n",
    "\n",
    "$d_{c}$ , $d_{\\text{mi}}$ , $d_{\\text{ICU}}$: average length of a Cohort, Midcare and ICU stay. Equal to one week, two weeks and two weeks respectively.\n",
    "\n",
    "$d_{\\text{mi,recovery}}$ , $d_{\\text{ICU,recovery}}$: lengths of recovery stays in Cohort after being in Midcare or IC. Equal to one week.\n",
    "\n",
    "Zhou et al. (2020) performed a retrospective study on 191 Chinese hospital patients and determined that the time from illness onset to discharge or death was 22.0 days (18.0-25.0, IQR) and 18.5 days (15.0-22.0, IQR) for survivors and victims respectively. Using available preliminary data, the World Health Organisation estimated the median time from onset to clinical recovery for mild cases to be approximately 2 weeks and to be 3-6 weeks for patients with severe or critical disease (WHO, 2020). Based on this report, we assume a recovery time of three weeks for heavy infections.\n",
    "\n",
    "$d_{hospital}$ : the time before heavily or critically infected patients reach the hospital. Assumed 5-9 days (Linton et al. 2020). Still waiting on hospital input here.\n",
    "\n",
    "$m_0$ : the mortality in ICU, which is roughly 50\\% (Wu and McGoogan, 2020). \n",
    "\n",
    "$\\zeta$: can be used to model the effect of re-susceptibility and seasonality of a disease. Throughout this demo, we assume $\\zeta = 0$ because data on seasonality is not yet available at the moment. We thus assume permanent immunity after recovering from the infection."
   ]
  },
  {
   "cell_type": "markdown",
   "metadata": {},
   "source": [
    "### Social interaction data"
   ]
  },
  {
   "cell_type": "markdown",
   "metadata": {},
   "source": [
    "#### Social Contact Rates (SOCRATES) Data Tool"
   ]
  },
  {
   "cell_type": "markdown",
   "metadata": {},
   "source": [
    "https://lwillem.shinyapps.io/socrates_rshiny/\n",
    "\n",
    "1. What is the average number of daily human-to-human contacts of the Belgian population? Include all ages, all genders and both physical and non-physical interactions of any duration. To include all ages, type: *0,60+* in the *Age Breaks* dialog box.\n",
    "2. What is the average number of physical human-to-human contacts of the Belgian population? Include all ages, all genders and all durations of physical contact.\n",
    "3. What is the average number of physical human-to-human contacts of at least 1 hour of the Belgian population?\n",
    "4. Based on the above results, how would you estimate $N_c$ in the deterministic model?\n",
    "5. Based on the above results, how would you estimate $p$ in the stochastic model? Recall that $p$ is the fraction of *random contacts* a person has on a daily basis, while $(1-p)$ is the fraction of *inner circle contacts* a person has on a daily basis.\n",
    "\n"
   ]
  },
  {
   "cell_type": "markdown",
   "metadata": {
    "heading_collapsed": true
   },
   "source": [
    "#### Google COVID-19 Community Mobility Reports\n"
   ]
  },
  {
   "cell_type": "markdown",
   "metadata": {
    "hidden": true
   },
   "source": [
    "https://www.google.com/covid19/mobility/\n"
   ]
  },
  {
   "cell_type": "markdown",
   "metadata": {
    "heading_collapsed": true
   },
   "source": [
    "#### London School of Hygiene"
   ]
  },
  {
   "cell_type": "markdown",
   "metadata": {
    "hidden": true
   },
   "source": [
    "https://www.thelancet.com/journals/lanpub/article/PIIS2468-2667(20)30073-6/fulltext"
   ]
  },
  {
   "cell_type": "markdown",
   "metadata": {},
   "source": [
    "## Performing simulations"
   ]
  },
  {
   "cell_type": "markdown",
   "metadata": {},
   "source": [
    "### Without age-structuring"
   ]
  },
  {
   "cell_type": "markdown",
   "metadata": {},
   "source": [
    "#### The 'SEIRSAgeModel' class"
   ]
  },
  {
   "cell_type": "markdown",
   "metadata": {},
   "source": [
    "The basic concept of object oriented programming in Python 3 is illustrated schematically below. An object, created by calling a class, should be seen as a 'box' containing 'tools'. First, the model parameters, the initial condition and the monte-carlo simulation settings are put inside. The toolbox 'SEIRSAgeModel' not only contains the necessary code to simulate the model, but also contains several convenient functions for data visualisation, calibration of model parameters and model predictive control. The advantage of using an object instead of nested functions is the fact that function arguments don't explicitly have to be passed to the helper functions every time these are called by the user. Rather, the parameters are stored in our 'SEIRSAgeModel' toolbox and can be used by the class functions at any time. This drastically enhances the readability of the code.\n",
    "\n",
    "<img src=\"../figs/SEIRSAgeModel.jpg\"\n",
    "     alt=\"class\"\n",
    "     height=\"600\" width=\"700\"     \n",
    "     style=\"float: left; margin-right: 500px;\" /> \n",
    "\n",
    "As of 18/04/2020, the SEIRSAgeModel contains 9 functions which can be grouped in two parts: 1) functions to run and visualise simulations and 2) functions to perform parameter estimations and visualse the results. 3) functions to optimize future policies using model predictive control (MPC)."
   ]
  },
  {
   "cell_type": "markdown",
   "metadata": {},
   "source": [
    "#### Creating a SEIRSAgeModel object"
   ]
  },
  {
   "cell_type": "markdown",
   "metadata": {},
   "source": [
    "We start our demo with the initialisation of our 'toolbox', as shown in the cell below. This is done by calling the SEIRSAgeModel class and defining all clinical and testing parameters, the initial condition and if we want to enable monte-carlo simulations. By default, if the argument monteCarlo and n_samples are omited from the object initialisation, monte-carlo sampling of the incubation period is switched off by default. **It is detrimental that Nc and all initial conditions (denoted 'initX') are numpy arrays. The initial conditions must be 1D arrays with the same size as the number of age categories considered in the metapopulation model. Nc must be a square 2D array with the same size as the number of age categories considered in the metapopulation model. For now, we omit age-structuring as this is demonstrated later on.** We conveniently name our object 'model'."
   ]
  },
  {
   "cell_type": "code",
   "execution_count": null,
   "metadata": {
    "ExecuteTime": {
     "end_time": "2020-05-01T09:36:33.234177Z",
     "start_time": "2020-05-01T09:36:33.003420Z"
    }
   },
   "outputs": [],
   "source": [
    "model = models.SEIRSAgeModel(        initN   = np.array([11.43e6]), #must be a numpy array; size of the Belgian population\n",
    "                                     beta    = 0.07, # probability of infection when encountering infected person\n",
    "                                     sigma   = 3.2, # latent period (days)\n",
    "                                     omega   = 2.0, # pre-symptomatic infectiousness (days)\n",
    "                                     Nc = np.array([11.2]), #must be a numpy array; average number of human-to-human interactions per day\n",
    "                                     a = 0.43, # probability of an asymptotic (supermild) infection\n",
    "                                     m = 1-0.43, # probability of a mild infection\n",
    "                                     h = 0.20, # probability of hospitalisation for a mild infection\n",
    "                                     c = 3/4, # probability of hospitalisation in cohort\n",
    "                                     mi = 1/8, # probability of hospitalisation in midcare\n",
    "                                     da = 7, # days of infection when asymptomatic (supermild)\n",
    "                                     dm = 7, # days of infection when mild\n",
    "                                     dc = 7,\n",
    "                                     dmi = 14,\n",
    "                                     dICU = 14,\n",
    "                                     dICUrec = 7,\n",
    "                                     dmirec = 7,\n",
    "                                     dhospital = 5, # days before reaching the hospital when heavy or critical\n",
    "                                     m0 = 0.49, # mortality in ICU\n",
    "                                     maxICU = 2000,\n",
    "                                     totalTests = 0,\n",
    "                                     psi_FP = 0, # probability of a false positive\n",
    "                                     psi_PP = 1, # probability of a correct test\n",
    "                                     dq = 14, # days in quarantaine\n",
    "                                     initE = np.array([1]), #must be a numpy array\n",
    "                                     initA = np.zeros(1), \n",
    "                                     initM = np.zeros(1),\n",
    "                                     initC = np.zeros(1),\n",
    "                                     initCmirec = np.zeros(1),\n",
    "                                     initCicurec = np.zeros(1),\n",
    "                                     initMi = np.zeros(1),\n",
    "                                     initICU = np.zeros(1),\n",
    "                                     initR = np.zeros(1),\n",
    "                                     initD = np.zeros(1),\n",
    "                                     initSQ = np.zeros(1),\n",
    "                                     initEQ = np.zeros(1),\n",
    "                                     initIQ = np.zeros(1),\n",
    "                                     initAQ = np.zeros(1),\n",
    "                                     initMQ = np.zeros(1),\n",
    "                                     initRQ = np.zeros(1),\n",
    "                                     monteCarlo = False,\n",
    "                                     n_samples = 1\n",
    "                            )"
   ]
  },
  {
   "cell_type": "markdown",
   "metadata": {},
   "source": [
    "#### Extract Sciensano data"
   ]
  },
  {
   "cell_type": "code",
   "execution_count": null,
   "metadata": {},
   "outputs": [],
   "source": [
    "[index,data] = model.obtainData()\n",
    "ICUvect = np.transpose(data[0])\n",
    "hospital = np.transpose(data[1])\n",
    "print(ICUvect.shape)"
   ]
  },
  {
   "cell_type": "markdown",
   "metadata": {},
   "source": [
    "#### Changing an object variable after intialisation\n",
    "\n",
    "After initialising our 'model' it is still possible to change variables using the following syntax."
   ]
  },
  {
   "cell_type": "code",
   "execution_count": null,
   "metadata": {},
   "outputs": [],
   "source": [
    "model.beta = 0.079"
   ]
  },
  {
   "cell_type": "markdown",
   "metadata": {},
   "source": [
    "#### Running your first simulation\n",
    "\n",
    "A simulation is run by using the attribute function *sim*, which uses one argument, the simulation time T, as its input. "
   ]
  },
  {
   "cell_type": "code",
   "execution_count": null,
   "metadata": {},
   "outputs": [],
   "source": [
    "y = model.sim(200)"
   ]
  },
  {
   "cell_type": "markdown",
   "metadata": {},
   "source": [
    "For advanced users: the numerical results of the simulation can be accessed directly be calling *object.X* or *object.sumX* where X is the name of the desired population pool. Both are numpy arrays. *Ojbect.X* is a 3D array of the following dimensions:\n",
    "- x-dimension: number of age categories,\n",
    "- y-dimesion: tN: total number of timesteps taken (one per day),\n",
    "- z-dimension: n_samples: total number of monte-carlo simulations performed.\n",
    "\n",
    "Object.sumX is a 2D array containing only the results summed over all age categorie and has the following dimensions,\n",
    "- x-dimesion: tN: total number of timesteps taken (one per day),\n",
    "- y-dimension: n_samples: total number of monte-carlo simulations performed.\n"
   ]
  },
  {
   "cell_type": "markdown",
   "metadata": {},
   "source": [
    "#### Visualising the results\n",
    "\n",
    "To quickly visualise simulation results, two attribute functions were created. The first function, *plotPopulationStatus*, visualises the number of susceptible, exposed, infected and recovered individuals in the population. The second function, *plotInfected*, by default visualises the number of heavily and critically infected individuals. Both functions require no user input to work but both have some optional arguments,\n",
    "\n",
    "> plotPopulationStatus(filename),\n",
    "> - filename: string with a filename + extension to save the figure. The figure is not saved per default.\n",
    "\n",
    "> plotInfected(asymptotic, mild, filename),\n",
    "> - asymptotic: set to *True* to include the supermild pool in the visualisation.\n",
    "> - mild: set to *True* to include the mild pool in the visualisation.\n",
    "> - filename: string with a filename + extension to save the figure. The figure is not saved per default.\n",
    "> - getfig: True to return ax, fig (default: False)"
   ]
  },
  {
   "cell_type": "code",
   "execution_count": null,
   "metadata": {},
   "outputs": [],
   "source": [
    "model.plotPopulationStatus()\n",
    "model.plotInfected()"
   ]
  },
  {
   "cell_type": "markdown",
   "metadata": {},
   "source": [
    "#### The use of checkpoints to change parameters on the fly\n",
    "\n",
    "A cool feature of the original SEIRSplus package by Ryan McGee was the use of so-called *checkpoints* dictionary to change simulation parameters on the fly. In our modification, this feature is preserved. Below you can find an example of a *checkpoints* dictionary. The simulation will be started with the previously initialised parameters. After 40 days, social interaction will be limited by changing $N_c$ to 0.50 contacts per day. After 80 days, social restrictions are lifted and beta once more assumes its *business-as-usual* value. *checkpoints* is the only optional argument of the *sim* functions and is set to *None* per default."
   ]
  },
  {
   "cell_type": "code",
   "execution_count": null,
   "metadata": {},
   "outputs": [],
   "source": [
    "# Create checkpoints dictionary\n",
    "chk = {'t':       [62,120], \n",
    "       'Nc':      [np.array([1]),np.array([11.2])]\n",
    "      }\n",
    "# Run simulation\n",
    "y = model.sim(140,checkpoints=chk)\n",
    "# Visualise\n",
    "model.plotPopulationStatus()\n",
    "model.plotInfected()"
   ]
  },
  {
   "cell_type": "markdown",
   "metadata": {},
   "source": [
    "### Meta-population simulations"
   ]
  },
  {
   "cell_type": "markdown",
   "metadata": {},
   "source": [
    "#### Creating an age-structured SEIRSAgeModel object\n",
    "A first important challenge when using a deterministic model is to link the discrete levels of the control handle Nc (number of contacts) to specific government policies. A model extension that could be used to facilitate this is age-structuring. In this approach, all population pools are split in age-bins and the interactions between the age-bins are governed by a so-called interaction matrix. This modeling approach was recently used by a team of the London School of Hygiene and details can be found here [1]. Our model is written in such a way that incorporating age-structuring is only a matter of change the initial conditions and Nc-matrix sizes. We can already run simulations using the Belgian interaction matrix shown below and we will run the controller using this model in the very near future.\n",
    "\n",
    "We now initialise a second, age-structured, 'toolbox', as shown in the cell below.  This is done in exactly the same way as before but instead of size-one numpy arrays we will now use a 16x16 interaction interaction matrix and 16x0 size initial conditions, as was demonstrated by the London School of Hygiene. Interaction matrices are publicly available here [2]. We conveniently name our object 'ageModel'.\n",
    "\n",
    "[1] https://www.thelancet.com/journals/lanpub/article/PIIS2468-2667(20)30073-6/fulltext \n",
    "\n",
    "[2] https://github.com/kieshaprem/covid19-agestructureSEIR-wuhan-social-distancing/tree/master/data\n",
    "\n",
    "<img src=\"../figs/BELinteractPlot.png\"\n",
    "     alt=\"interact\"\n",
    "     height=\"1000\" width=\"1000\"     \n",
    "     style=\"float: left; margin-right: 500px;\" /> "
   ]
  },
  {
   "cell_type": "code",
   "execution_count": null,
   "metadata": {},
   "outputs": [],
   "source": [
    "# Load interaction matrices\n",
    "Nc_home = np.loadtxt(\"../../data/raw/Interaction_matrices/Belgium/BELhome.txt\", dtype='f', delimiter='\\t')\n",
    "Nc_work = np.loadtxt(\"../../data/raw/Interaction_matrices/Belgium/BELwork.txt\", dtype='f', delimiter='\\t')\n",
    "Nc_schools = np.loadtxt(\"../../data/raw/Interaction_matrices/Belgium/BELschools.txt\", dtype='f', delimiter='\\t')\n",
    "Nc_transport = np.loadtxt(\"../../data/raw/Interaction_matrices/Belgium/BELtransport.txt\", dtype='f', delimiter='\\t')\n",
    "Nc_leisure = np.loadtxt(\"../../data/raw/Interaction_matrices/Belgium/BELleisure.txt\", dtype='f', delimiter='\\t')\n",
    "Nc_others = np.loadtxt(\"../../data/raw/Interaction_matrices/Belgium/BELothers.txt\", dtype='f', delimiter='\\t')\n",
    "Nc_total = np.loadtxt(\"../../data/raw/Interaction_matrices/Belgium/BELtotal.txt\", dtype='f', delimiter='\\t')\n",
    "initN = np.loadtxt(\"../../data/raw/Interaction_matrices/Belgium/BELagedist_10year.txt\", dtype='f', delimiter='\\t')"
   ]
  },
  {
   "cell_type": "code",
   "execution_count": null,
   "metadata": {},
   "outputs": [],
   "source": [
    "ageModel = models.SEIRSAgeModel(initN   = initN,         #16x0 numpy array\n",
    "                                     beta    = 0.04, # probability of infection when encountering infected person\n",
    "                                     sigma   = 3.2, # latent period\n",
    "                                     omega   = 2.0, # pre-symptomatic infectious period\n",
    "                                     Nc = Nc_total, #must be a numpy array; average number of human-to-human interactions per day\n",
    "                                     a = 0.43, # probability of an asymptotic (supermild) infection\n",
    "                                     m = 1-0.43, # probability of a mild infection\n",
    "                                     h =np.array([[0.0205,0.0205,0.1755,0.1755,0.2115,0.2503,0.3066,0.4033,0.4770]]), # probability of hospitalisation for a mild infection\n",
    "                                     c = 1 - np.array([0,0,0.0310,0.0310,0.055,0.077,0.107,0.1685,0.1895]), # probability of hospitalisation in cohort\n",
    "                                     mi = 0.5*np.array([0,0,0.0310,0.0310,0.055,0.077,0.107,0.1685,0.1895]), # probability of hospitalisation in midcare\n",
    "                                     da = 7, # days of infection when asymptomatic (supermild)\n",
    "                                     dm = 7, # days of infection when mild\n",
    "                                     dc = 7,\n",
    "                                     dmi = 14,\n",
    "                                     dICU = 14,\n",
    "                                     dICUrec = 7,\n",
    "                                     dmirec = 7,\n",
    "                                     dhospital = 4, # days before reaching the hospital when heavy or critical\n",
    "                                     #m0 = np.transpose(np.array([0.000094,0.00022,0.00091,0.0018,0.004,0.013,0.046,0.098,0.18])), # mortality in ICU\n",
    "                                     m0 = np.ones(9)*0.50,\n",
    "                                     maxICU = 2000,\n",
    "                                     totalTests = 0,\n",
    "                                     psi_FP = 0, # probability of a false positive\n",
    "                                     psi_PP = 1, # probability of a correct test\n",
    "                                     dq = 14, # days in quarantaine                          \n",
    "                                     initE = np.ones(9), #must be a numpy array\n",
    "                                     initI = np.zeros(9),\n",
    "                                     initA = np.zeros(9), \n",
    "                                     initM = np.zeros(9),\n",
    "                                     initC = np.zeros(9),\n",
    "                                     initCmirec = np.zeros(9),\n",
    "                                     initCicurec = np.zeros(9),\n",
    "                                     initMi = np.zeros(9),\n",
    "                                     initICU = np.zeros(9),\n",
    "                                     initR = np.zeros(9),\n",
    "                                     initD = np.zeros(9),\n",
    "                                     initSQ = np.zeros(9),\n",
    "                                     initEQ = np.zeros(9),\n",
    "                                     initIQ = np.zeros(9),\n",
    "                                     initAQ = np.zeros(9),\n",
    "                                     initMQ = np.zeros(9),\n",
    "                                     initRQ = np.zeros(9),\n",
    "                                     monteCarlo = False,\n",
    "                                     n_samples = 100,\n",
    "                            )"
   ]
  },
  {
   "cell_type": "code",
   "execution_count": null,
   "metadata": {},
   "outputs": [],
   "source": [
    "# Create checkpoints dictionary\n",
    "chk = {'t':       [55,180], \n",
    "       'Nc':      [Nc_home,Nc_total]\n",
    "      }\n",
    "# Run simulation\n",
    "y = ageModel.sim(210,checkpoints=chk)\n",
    "# Visualise\n",
    "ageModel.plotPopulationStatus()\n",
    "ageModel.plotInfected()"
   ]
  },
  {
   "cell_type": "markdown",
   "metadata": {},
   "source": [
    "## Calibrating $\\beta$  in a *business-as-usual* scenario ($N_c = 11.2$)\n",
    "\n",
    "### Performing a least-squares fit\n",
    "\n",
    "The 'SEIRSAgeModel' class contains a function to fit the model to selected data (*fit*) and one function to visualise the result (*plotFit*). Our code uses a particle swarm (PSO) algorithm to perform the optimisation. The *fit* function has the following basic syntax,\n",
    "\n",
    "> sim(data, parNames, positions, bounds, weights)\n",
    "> - data: a list containing the dataseries (dtype=np array) to fit the model to. For now, dataseries must be of equal length.\n",
    "> - parNames: a list containing the names (dtype=string) of the model parameters to be fitted.\n",
    "> - positions: a list containing the model states (dtype=np.array) used to calculate the sum of least squares. Each dataseries must be matched to a certain (sum of) model state(s). If multiple entries are provided these are added togheter. The order of the states is given according to the following vector, where S has index 0: (S, E, I, A, M, C, Mi, ICU, R, F, SQ, EQ, IQ, AQ, MQ, RQ).\n",
    "\n",
    "\n",
    "The following arguments are optional,\n",
    "> - checkpoints: checkpoint dictionary can be used to calibrate under specific scenarios such as policy changes (default: None).\n",
    "> - setvar: True to replace fitted values in model object after fit is performed (default: False).\n",
    "> - disp: Show sum-of-least-squares after each optimisation iteration (default: True).\n",
    "> - polish: True to use a Nelder–Mead simplex to polish the final result (default: True).\n",
    "> - maxiter: Maximum number of iterations (default: 30).\n",
    "> - popsize: Population size of genetic algorithm (default: 10).\n",
    "\n",
    "The PSO algorithm will by default use all cores available for the optimisation. Using the *fit* attribute, it is possible to calibrate any number of model parameters to any sets of data. We do note that fitting the parameters a,m,h and c requires modification of the source code. In the example below, the transmission parameter $\\beta$ is sought after using two dataseries. The first is the number of patients in need of intensive care and the second is the total number of people in the hospital."
   ]
  },
  {
   "cell_type": "code",
   "execution_count": null,
   "metadata": {},
   "outputs": [],
   "source": [
    "# vector with dates\n",
    "index=pd.date_range('2020-03-15', freq='D', periods=ICUvect.size)\n",
    "# data series used to calibrate model must be given to function 'plotFit' as a list\n",
    "idx = -57\n",
    "index = index[0:idx]\n",
    "data=[np.transpose(ICUvect[:,0:idx]),np.transpose(hospital[:,0:idx])]\n",
    "# set optimisation settings\n",
    "parNames = ['beta'] # must be a list!\n",
    "positions = [np.array([5,6]),np.array([4,5,6])] # must be a list!\n",
    "bounds=((10,100),(0.01,0.12)) # must be a list!\n",
    "weights = np.array([0,1])\n",
    "# run optimisation\n",
    "theta = model.fit(data,parNames,positions,bounds,weights,setvar=True,maxiter=60,popsize=120)"
   ]
  },
  {
   "cell_type": "markdown",
   "metadata": {},
   "source": [
    "### Visualising the fit\n",
    "\n",
    "Visualising the resulting fit is easy and can be done using the plotFit function. The functions uses the following basic syntax,\n",
    "\n",
    "plotFit(index,data,positions)\n",
    "> - index: vector with timestamps corresponding to data.\n",
    "> - data: list containing the dataseries (dtype=np array) to fit the model to. For now, dataseries must be of equal length.\n",
    "> - positions: list containing the model states (dtype=np.array) used to calculate the sum of least squares.\n",
    "\n",
    "The following arguments are optional,\n",
    "> - dataMkr: list containing the markers (dtype=str) to be used to visualise the data. Default value works up to five dataseries and is equal to: ['o','v','s','*','^'].\n",
    ">- modelClr: list containing the colors (dtype=str) to be used to visualise the model fit. Default value works up to five dateseries and is equal to: ['green','orange','red','black','blue'].\n",
    "> - legendText: tuple containing the legend entries. Disabled per default.\n",
    "> - titleText: string containing the fit title. Disable per default.\n",
    "> - filename: string with a filename + extension to save the figure. The figure is not saved per default.\n",
    "> - getfig: True to return ax, fig (default: False)"
   ]
  },
  {
   "cell_type": "code",
   "execution_count": null,
   "metadata": {},
   "outputs": [],
   "source": [
    "# plot result\n",
    "model.plotFit(index,data,positions,modelClr=['red','orange'],legendText=('ICU (model)','Hospitalized (model)','ICU (data)','Hospitalized (data)'),titleText='Belgium')"
   ]
  },
  {
   "cell_type": "markdown",
   "metadata": {},
   "source": [
    "## Model Predictive control (MPC)\n",
    "\n",
    "### Optimising government policy\n",
    "\n",
    "#### Process control for the layman\n",
    "\n",
    "As we have the impression that the control part, which we see as our main addition to the problem, is more difficult to grasp for the layman, here is a short intro to process control. Experts in control are welcome to skip this section.\n",
    "\n",
    "A predictive model consists of a set of equations and aims to predict how the system will behave in the future given a certain input. Process control flips this around and aims at determining what input is needed to achieve a desired system behavior (= goal). It is a tool that helps us in “controlling” how we want a system to behave. It is commonly applied in many industries, but also in our homes (e.g. central heating, washing machine). It's basically everywhere. Here's how it works. An algorithm monitors the deviation between the goal and the true system value and then computes the necessary action to \"drive\" the system to its goal by means of an actuator (in industry this is typically a pump or a valve). Applying this to Covid-19, the government wants to \"control\" the spread of the virus in the population by imposing measures (necessary control actions) on the public (which is the actuator here) and achieve the goal that the number of severely sick people does not become larger than can be handled by the health care system. However, the way the population behaves is a lot more complex compared to the heating control in our homes since not only epidemiology (virus spread) but also different aspects of human behavior on both the individual and the societal level (sociology, psychology, economy) are involved. This leads to multiple criteria we want to ideally control simultaneously and we want to use the \"smartest\" algorithm we can get our hands on.\n",
    "\n",
    "#### The optimizePolicy function\n",
    "\n",
    "The 'SEIRSAgeModel' class contains an implementation of the MPC controller in the function *optimizePolicy*. For now, the controller minimises a weighted squared sum-of-errors between multiple setpoints and model predictions. The algorithm can use any variable to control the virus outbreak, but we recommend sticking with the number of random daily contacts $N_c$ and the total number of random tests ('totalTests') as only these have been tested. We also recommend disabling age-structuring in the model before running the MPC as this feature requires discretisation of the interaction matrix to work which is not yet implemented. Future work will extend the MPC controller to work with age-structuring feature inherent to the model. Future work is also aimed at including an economic cost function to discriminate between control handles. Our MPC uses a PSO algorithm to perform the optimisation, we recommend using at least a swarmsize of 20 and at least 100 iterations to ensure that the trajectory is 'optimal'. The *optimizePolicy* function has the following basic syntax,\n",
    "\n",
    "optimizePolicy(parNames, bounds, setpoints, positions, weights)\n",
    "> - parNames: a list containing the names (dtype=string) of the model parameters to be used as a control handle.\n",
    "> - bounds: A list containing the lower- and upper boundaries of each parameter to be used as a control handle. Each entry in the list should be a 1D numpy array containing the lower- and upper bound for the respective control handle.\n",
    "> - setpoints: A list with the numerical values of the desired model output.\n",
    "> - positions: a list containing the model states (dtype=np.array) used to calculate the sum of least squares. Each modelouput in the given position is matched with a provided setpoint. If multiple position entries are provided, the output in these positions is added togheter. The order of the states is given according to the following vector, where S has index 0: (S, E, I, A, M, C, Mi, ICU, R, F, SQ, EQ, IQ, AQ, MQ, RQ).\n",
    "> - weights: a list containing the weighting fractions of each population pool ouput in the sum-of-squared errors.\n",
    "\n",
    "The following arguments are optional,\n",
    "> - policy_period: length of one policy interval (default: 7 days).\n",
    "> - N: number of future policy intervals to be optimised, also called 'control horizon' (default: 6).\n",
    "> - P: number of policy intervals over which the sum of squared errors is calculated, also called 'prediction horizon' (default:12).\n",
    "> - disp: Show sum-of-least-squares after each optimisation iteration (default: True).\n",
    "> - polish: True to use a Nelder–Mead simplex to polish the final result (default: True).\n",
    "> - maxiter: Maximum number of iterations (default: 100).\n",
    "> - popsize: Population size of genetic algorithm (default: 20).\n",
    "\n",
    "The function returns a one-dimensional list containing the optimal values of the control handles. The length of this list is equal to the length of the control horizon (N) times the number of control handles. The list thus lists all control handles and their optimal values in their respective order. **The optimal policy is assigned to the SEIRSAgeModel object and is only overwritten when a new optimisation is performed. Future work could include the creation of a new object for every optimal policy.** The genetic algorithm will by default use all cores available for the optimisation."
   ]
  },
  {
   "cell_type": "code",
   "execution_count": null,
   "metadata": {},
   "outputs": [],
   "source": [
    "parNames = ['Nc','totalTests']\n",
    "bounds = [np.array([0,11.2]),np.array([0,1e6])]\n",
    "setpoints = [1200,5000]\n",
    "positions = [np.array([6]),np.array([4,5,6])]\n",
    "weights = [1,0]\n",
    "model.optimizePolicy(parNames,bounds,setpoints,positions,weights,policy_period=14,N=6,P=6,polish=False,maxiter=120,popsize=144)"
   ]
  },
  {
   "cell_type": "markdown",
   "metadata": {},
   "source": [
    "### Visualising the effect of government policy"
   ]
  },
  {
   "cell_type": "markdown",
   "metadata": {},
   "source": [
    "Visualising the resulting optimal policy is easy and can be done using the plotOptimalPolicy function. We note that the functionality of*plotOptimalPolicy** is for now, very basic and will be extended in the future. The function is heavily based on the *plotInfected* visualisation. The function uses the following basic syntax,\n",
    "\n",
    "plotOptimalPolicy(parNames,setpoints,policy_period)\n",
    "> - parNames: a list containing the names (dtype=string) of the model parameters to be used as a control handle.\n",
    "> - setpoints: A list with the numerical values of the desired model output.\n",
    "> - policy_period: length of one policy interval (default: 7 days).\n",
    "\n",
    "The following arguments are optional,\n",
    "> - asymptotic: set to *True* to include the supermild pool in the visualisation.\n",
    "> - mild: set to *True* to include the mild pool in the visualisation.\n",
    "> - filename: string with a filename + extension to save the figure. The figure is not saved per default."
   ]
  },
  {
   "cell_type": "code",
   "execution_count": null,
   "metadata": {},
   "outputs": [],
   "source": [
    "model.plotOptimalPolicy(parNames,setpoints,policy_period=14)"
   ]
  },
  {
   "cell_type": "markdown",
   "metadata": {},
   "source": [
    "## Specific methods\n",
    "\n",
    "### *realTimeScenario*\n",
    "\n",
    "The 'SEIRSAgeModel' class contains one function to quickly perform and visualise scenario analysis for a given country. The user is obligated to supply the function with: 1) a set of dataseries, 2) the date at which the data starts, 3) the positions in the model output that correspond with the dataseries and 4) a checkpoints dictionary containing the past governement actions, from hereon referred to as the *pastPolicy* dictionary. If no additional arguments are provided, the data and the corresponding model fit are visualised from the user supplied start date up until the end date of the data plus 14 days. The end date of the visualisation can be altered by defining the optional keyworded argument *T_extra* (default: 14 days). Optionally a dictionary of future policies can be used to simulate scenarios starting on the first day after the end date of the dataseries. The function *realTimeScenario* accomplishes this by merging both the *pastPolicy* and *futurePolicy* dictionaries using the backend function *mergeDict()*. The syntax without optional arguments is as follows,\n",
    "\n",
    "realTimeScenario(startDate, data, positions, pastPolicy)\n",
    "> - startDate: a string with the date corresponding to the first entry of the dataseries (format: 'YYYY-MM-DD'). \n",
    "> - data: a list containing the dataseries (dtype=np array) to fit the model to. For now, dataseries must be of equal length and start on the same day.\n",
    "> - positions: a list containing the model states (dtype=np.array) used to calculate the sum of least squares. Each dataseries must be matched to a certain (sum of) model state(s). If multiple entries are provided these are added togheter. The order of the states is given according to the following vector, where S has index 0: (S, E, I, A, M, C, Mi, ICU, R, F, SQ, EQ, IQ, AQ, MQ, RQ).\n",
    "> - pastPolicy: a checkpoints dictionary containing past government actions.\n",
    "\n",
    "The following (simulation) arguments are optional,\n",
    "> - futurePolicy: a checkpoint dictionary used to simulate scenarios in the future (default: None). By default, time '1' in this dictionary is the date of the first day after the end of the data.\n",
    "> - T_extra: Extra simulation time after last date of the data if no futurePolicy dictionary is provided. Extra simulation time after last time in futurePolicy dictionary.\n",
    "\n",
    "The following arguments are for visualisation,\n",
    "> - dataMkr: list containing the markers (dtype=str) to be used to visualise the data. Default value works up to five dataseries and is equal to: ['o','v','s','*','^'].\n",
    ">- modelClr: list containing the colors (dtype=str) to be used to visualise the model fit. Default value works up to five dateseries and is equal to: ['green','orange','red','black','blue'].\n",
    "> - legendText: tuple containing the legend entries. Disabled per default.\n",
    "> - titleText: string containing the fit title. Disable per default.\n",
    "> - filename: string with a filename + extension to save the figure. The figure is not saved per default.\n",
    "> - getfig: True to return ax, fig (default: False)"
   ]
  },
  {
   "cell_type": "code",
   "execution_count": null,
   "metadata": {},
   "outputs": [],
   "source": [
    "# Define data as a list containing data timeseries\n",
    "data=[np.transpose(ICUvect),np.transpose(hospital)]\n",
    "# Create a dictionary of past policies\n",
    "pastPolicy = {'t':       [9], \n",
    "              'Nc':      [np.array([1.3])]\n",
    "              }\n",
    "# Create a dictionary of future policies\n",
    "futurePolicy = {'t':     [1], \n",
    "                'Nc':    [np.array([5])],\n",
    "              }\n",
    "# Define the data corresponding to the first data entry\n",
    "startDate='2020-03-15'\n",
    "# Run realTimeScenario\n",
    "model.realTimeScenario(startDate,data,positions,pastPolicy,futurePolicy=futurePolicy,T_extra=21,\n",
    "                       modelClr=['red','orange'],legendText=('ICU (model)','Hospital (model)','ICU (data)','Hospital (data)'),\n",
    "                       titleText='Belgium',filename='test.svg')"
   ]
  },
  {
   "cell_type": "markdown",
   "metadata": {},
   "source": [
    "### *realTimeMPC*\n",
    "\n",
    "The 'SEIRSAgeModel' class contains one function to quickly optimise the policy for a given country using Model Predictive Control. The user is obligated to supply the function with: 1) a set of dataseries, 2) the date at which the data starts, 3) the positions in the model output that correspond with the dataseries, 4) a checkpoints dictionary containing the past governement actions, from hereon referred to as the *pastPolicy* dictionary and 5) Additional MPC arguments. The source code of *realTimeMPC* consists of seven distinct steps. The syntax without optional arguments is as follows,\n",
    "\n",
    "realTimeMPC(startDate, data, positions, pastPolicy,parNames,bounds,setpoints,weights)\n",
    "> - startDate: a string with the date corresponding to the first entry of the dataseries (format: 'YYYY-MM-DD'). \n",
    "> - data: a list containing the dataseries (dtype=np array) to fit the model to. For now, dataseries must be of equal length and start on the same day.\n",
    "> - positions: a list containing the model states (dtype=np.array) used to calculate the sum of least squares. Each dataseries must be matched to a certain (sum of) model state(s). If multiple entries are provided these are added togheter. The order of the states is given according to the following vector, where S has index 0: (S, E, I, A, M, C, Mi, ICU, R, F, SQ, EQ, IQ, AQ, MQ, RQ).\n",
    "> - pastPolicy: a checkpoints dictionary containing past government actions.\n",
    "> - parNames: a list containing the names (dtype=string) of the model parameters to be used as a control handle.\n",
    "> - bounds: A list containing the lower- and upper boundaries of each parameter to be used as a control handle. Each entry in the list should be a 1D numpy array containing the lower- and upper bound for the respective control handle.\n",
    "> - setpoints: A list with the numerical values of the desired model output.\n",
    "> - weights: a list containing the weighting fractions of each population pool ouput in the sum-of-squared errors.\n",
    "\n",
    "The following arguments are optional,\n",
    "> - policy_period: length of one policy interval (default: 7 days).\n",
    "> - N: number of future policy intervals to be optimised, also called 'control horizon' (default: 6).\n",
    "> - P: number of policy intervals over which the sum of squared errors is calculated, also called 'prediction horizon' (default:12).\n",
    "> - disp: Show sum-of-least-squares after each optimisation iteration (default: True).\n",
    "> - polish: True to use a Nelder–Mead simplex to polish the final result (default: True).\n",
    "> - maxiter: Maximum number of iterations (default: 100).\n",
    "> - popsize: Population size of genetic algorithm (default: 20).\n",
    "\n",
    "The following arguments are for visualisation,\n",
    "> - dataMkr: list containing the markers (dtype=str) to be used to visualise the data. Default value works up to five dataseries and is equal to: ['o','v','s','*','^'].\n",
    ">- modelClr: list containing the colors (dtype=str) to be used to visualise the model fit. Default value works up to five dateseries and is equal to: ['green','orange','red','black','blue'].\n",
    "> - legendText: tuple containing the legend entries. Disabled per default.\n",
    "> - titleText: string containing the fit title. Disable per default.\n",
    "> - filename: string with a filename + extension to save the figure. The figure is not saved per default.\n",
    "> - getfig: True to return ax, fig (default: False)\n",
    "\n",
    "Note that the control handles are not yet incorporated in the visualisation, this will be done in the near future."
   ]
  },
  {
   "cell_type": "code",
   "execution_count": null,
   "metadata": {},
   "outputs": [],
   "source": [
    "parNames = ['Nc']\n",
    "bounds = [np.array([1.5,11.2])]\n",
    "setpoints = [400,4000]\n",
    "positions = [np.array([6]),np.array([4,5,6])]\n",
    "weights = [1,0]\n",
    "model.realTimeMPC(startDate,data,positions,pastPolicy,parNames,bounds,setpoints,weights,\n",
    "                        policy_period=7,N=6,P=8,disp=True,polish=False,maxiter=60,popsize=24,\n",
    "                        dataMkr=['o','v','s','*','^'],modelClr=['orange','red'],\n",
    "                        legendText=('ICU (model)','Hospital (model)','ICU (data)','Hospital (data)'),\n",
    "                        titleText='Belgium',filename=None)"
   ]
  },
  {
   "cell_type": "code",
   "execution_count": null,
   "metadata": {},
   "outputs": [],
   "source": []
  }
 ],
 "metadata": {
  "kernelspec": {
   "display_name": "Python 3",
   "language": "python",
   "name": "python3"
  },
  "language_info": {
   "codemirror_mode": {
    "name": "ipython",
    "version": 3
   },
   "file_extension": ".py",
   "mimetype": "text/x-python",
   "name": "python",
   "nbconvert_exporter": "python",
   "pygments_lexer": "ipython3",
   "version": "3.8.2"
  },
  "nav_menu": {},
  "toc": {
   "navigate_menu": true,
   "number_sections": true,
   "sideBar": true,
   "threshold": "3",
   "toc_cell": true,
   "toc_section_display": "block",
   "toc_window_display": true
  }
 },
 "nbformat": 4,
 "nbformat_minor": 2
}
